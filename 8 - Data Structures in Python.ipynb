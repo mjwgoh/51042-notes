{
 "cells": [
  {
   "cell_type": "raw",
   "metadata": {},
   "source": [
    "---\n",
    "title: Data Structures\n",
    "---"
   ]
  },
  {
   "cell_type": "markdown",
   "metadata": {},
   "source": [
    "This week we're going to look at implementations of core data structures in Python.\n",
    "\n",
    "## Linked Lists vs. Arrays\n",
    "\n",
    "Arrays are implemented as blocks of contiguous memory.  This means looking up the 0th element takes the same amount of time as the 1,000,00th.  This is an `O(1)` operation, since the time it takes to look up an element is constant.\n",
    "\n",
    "Python's `list` type is internally implemented as an array.\n",
    "\n",
    "How long does it take to add an element to the beginning of a list? The end?\n",
    "\n",
    "An alternative way to store sequential items is by using a linked list.\n",
    "\n",
    "Linked lists store individual elements and a pointer to the next element.  This means that looking up the Nth element requires traversing the entire list.  (We can also doubly-link our lists, allowing us to traverse in either direction, gaining some speed at the cost of a bit more storage.)\n",
    "\n",
    "![](https://upload.wikimedia.org/wikipedia/commons/thumb/6/6d/Singly-linked-list.svg/408px-Singly-linked-list.svg.png)\n",
    "\n",
    "Linked lists can grow without bound, each new node can be allocated on the fly.\n",
    "\n",
    "### Questions"
   ]
  },
  {
   "cell_type": "code",
   "metadata": {},
   "source": [
    "class Node:\n",
    "    def __init__(self, value, _next=None):\n",
    "        self.value = value\n",
    "        self.next = _next\n",
    "\n",
    "\n",
    "class LinkedList:\n",
    "    def __init__(self):\n",
    "        self.root = None\n",
    "\n",
    "    def add(self, value):\n",
    "        if self.root is None:\n",
    "            # first value: special case\n",
    "            self.root = Node(value)\n",
    "        else:\n",
    "            cur = self.root\n",
    "            # traverse to end of list\n",
    "            while cur.next:\n",
    "                cur = cur.next\n",
    "            # drop a new node at the end of list\n",
    "            cur.next = Node(value)\n",
    "\n",
    "    def __str__(self):\n",
    "        s = \"\"\n",
    "        cur = self.root\n",
    "        while cur:\n",
    "            s += f\"[{cur.value}] -> \"\n",
    "            cur = cur.next\n",
    "        s += \"END\"\n",
    "        return s\n"
   ],
   "execution_count": 1,
   "outputs": []
  },
  {
   "cell_type": "code",
   "metadata": {},
   "source": [
    "ll = LinkedList()\n",
    "ll.add(1)\n",
    "ll.add(3)\n",
    "ll.add(5)\n",
    "ll.add(7)\n",
    "print(ll)\n"
   ],
   "execution_count": 2,
   "outputs": [
    {
     "name": "stdout",
     "output_type": "stream",
     "text": [
      "[1] -> [3] -> [5] -> [7] -> END\n"
     ]
    }
   ]
  },
  {
   "cell_type": "markdown",
   "metadata": {},
   "source": [
    "### Optimizations\n",
    "\n",
    "Doubly linked lists, and more complicated internal pointer structures can lead to increased performance at cost of more memory/complexity.\n",
    "\n",
    "`collections.deque` is a doubly linked list implementation in Python.\n",
    "\n",
    "## Stack\n",
    "\n",
    "A stack is a last-in-first-out (LIFO) data structure that needs to primarily serve two operations: push, and pop.\n",
    "\n"
   ]
  },
  {
   "cell_type": "code",
   "metadata": {},
   "source": [
    "class Stack:\n",
    "    def __init__(self):\n",
    "        self._data = []\n",
    "\n",
    "    def push(self, item):\n",
    "        # remember: adding/removing at the end of the list is faster than the front\n",
    "        self._data.append(item)\n",
    "\n",
    "    def pop(self):\n",
    "        return self._data.pop()\n",
    "\n",
    "    def __len__(self):\n",
    "        return len(self._data)\n",
    "\n",
    "    def __str__(self):\n",
    "        return \" TOP -> \" + \"\\n        \".join(\n",
    "            f\"[ {item} ]\" for item in reversed(self._data)\n",
    "        )\n"
   ],
   "execution_count": 3,
   "outputs": []
  },
  {
   "cell_type": "code",
   "metadata": {},
   "source": [
    "s = Stack()\n",
    "s.push(1)\n",
    "s.push(2)\n",
    "s.push(3)\n",
    "print(s)\n",
    "print(\"removed item\", s.pop(), \"stack is now\", len(s))\n",
    "print(s)\n",
    "print(\"removed item\", s.pop(), \"stack is now\", len(s))\n",
    "print(s)\n"
   ],
   "execution_count": 4,
   "outputs": [
    {
     "name": "stdout",
     "output_type": "stream",
     "text": [
      " TOP -> [ 3 ]\n",
      "        [ 2 ]\n",
      "        [ 1 ]\n",
      "removed item 3 stack is now 2\n",
      " TOP -> [ 2 ]\n",
      "        [ 1 ]\n",
      "removed item 2 stack is now 1\n",
      " TOP -> [ 1 ]\n"
     ]
    }
   ]
  },
  {
   "cell_type": "markdown",
   "metadata": {},
   "source": [
    "### Performance\n",
    "\n",
    "Insertion: `O(1)`\n",
    "Removal: `O(1)`\n",
    "Lookup: `O(n)` (not a typical operation on a stack)\n",
    "\n",
    "### Usage\n",
    "\n",
    "\"The Stack\"\n",
    "\n",
    "Sometimes when we're writing code we talk about \"the stack\", which is the stack of functions we're in & their scopes.\n",
    "\n",
    "```python\n",
    "\n",
    "def f():\n",
    "    ...\n",
    "    \n",
    "    \n",
    "def g():\n",
    "    if ...:\n",
    "        f()\n",
    "    else:\n",
    "        ...\n",
    "\n",
    "def h():\n",
    "    y = g()\n",
    "    ...\n",
    "```\n",
    "\n",
    "When we call h(), it is added to the call stack, then g is added, and f is added on top.  We return from these functions in LIFO order, f() exits, then g(), then h().\n",
    "\n",
    "## Queue\n",
    "\n",
    "A queue is a first-in-first-out (FIFO) data structure that adds items to one end, and removes them from the other.\n",
    "\n"
   ]
  },
  {
   "cell_type": "code",
   "metadata": {},
   "source": [
    "class ArrayQueue:\n",
    "    def __init__(self, _iterable=None):\n",
    "        if _iterable:\n",
    "            self._data = list(_iterable)\n",
    "        else:\n",
    "            self._data = []\n",
    "\n",
    "    def push(self, item):\n",
    "        # adding to the end of the list is faster than the front\n",
    "        self._data.append(item)\n",
    "\n",
    "    def pop(self):\n",
    "        # only change from `Stack` is we remove from the other end\n",
    "        # this can be slower, why?\n",
    "        return self._data.pop(0)\n",
    "\n",
    "    def __len__(self):\n",
    "        return len(self._data)\n",
    "\n",
    "    def __repr__(self):\n",
    "        return \" TOP -> \" + \"\\n        \".join(\n",
    "            f\"[ {item} ]\" for item in reversed(self._data)\n",
    "        )\n"
   ],
   "execution_count": 5,
   "outputs": []
  },
  {
   "cell_type": "code",
   "metadata": {},
   "source": [
    "from collections import deque\n",
    "\n",
    "\n",
    "class DequeQueue:\n",
    "    def __init__(self, _iterable=None):\n",
    "        if _iterable:\n",
    "            self._data = deque(_iterable)\n",
    "        else:\n",
    "            self._data = deque()\n",
    "\n",
    "    def push(self, item):\n",
    "        self._data.append(item)\n",
    "\n",
    "    def pop(self):\n",
    "        return self._data.popleft()\n",
    "\n",
    "    def __len__(self):\n",
    "        return len(self._data)\n",
    "\n",
    "    def __repr__(self):\n",
    "        return \" TOP -> \" + \"\\n        \".join(\n",
    "            f\"[ {item} ]\" for item in reversed(self._data)\n",
    "        )\n"
   ],
   "execution_count": 6,
   "outputs": []
  },
  {
   "cell_type": "markdown",
   "metadata": {},
   "source": [
    "### Usage\n",
    "\n",
    "Where do we see queues in the real world? Computing?\n",
    "\n",
    "## Performance Testing\n",
    "\n",
    "We can try to measure performance something takes by measuring how much time has passed.\n",
    "\n",
    "```python\n",
    "import time\n",
    "\n",
    "before = time.time()\n",
    "# do something\n",
    "after = time.time()\n",
    "elapsed = before - after\n",
    "```\n",
    "\n",
    "Issue is that in practice, times involved are miniscule, and other events on the system will overshadow differences."
   ]
  },
  {
   "cell_type": "code",
   "metadata": {},
   "source": [
    "import time\n",
    "\n",
    "\n",
    "def print_elapsed(func):\n",
    "    def newfunc(*args, **kwargs):\n",
    "        before = time.time()\n",
    "        retval = func(*args, **kwargs)\n",
    "        elapsed = time.time() - before\n",
    "        print(f\"Took {elapsed} sec to run {func.__name__}\")\n",
    "\n",
    "    return newfunc\n"
   ],
   "execution_count": 37,
   "outputs": []
  },
  {
   "cell_type": "code",
   "metadata": {},
   "source": [
    "@print_elapsed\n",
    "def testfunc(QueueCls):\n",
    "    queue = QueueCls()\n",
    "    for item in range(100):\n",
    "        queue.push(item)\n",
    "    while queue:\n",
    "        queue.pop()\n",
    "\n",
    "    return \"complete\"\n"
   ],
   "execution_count": 38,
   "outputs": []
  },
  {
   "cell_type": "code",
   "metadata": {},
   "source": [
    "testfunc(ArrayQueue)"
   ],
   "execution_count": 39,
   "outputs": [
    {
     "name": "stdout",
     "output_type": "stream",
     "text": [
      "Took 2.4080276489257812e-05 sec to run testfunc\n"
     ]
    }
   ]
  },
  {
   "cell_type": "code",
   "metadata": {},
   "source": [
    "testfunc(DequeQueue)"
   ],
   "execution_count": 30,
   "outputs": [
    {
     "name": "stdout",
     "output_type": "stream",
     "text": [
      "Took 2.3126602172851562e-05 sec to run testfunc\n"
     ]
    },
    {
     "data": {
      "text/plain": "'complete'"
     },
     "execution_count": 30,
     "metadata": {},
     "output_type": "execute_result"
    }
   ]
  },
  {
   "cell_type": "code",
   "metadata": {},
   "source": [
    "# run again, see how they differ\n",
    "testfunc(ArrayQueue)\n",
    "testfunc(DequeQueue)"
   ],
   "execution_count": 11,
   "outputs": [
    {
     "name": "stdout",
     "output_type": "stream",
     "text": [
      "Took 5.602836608886719e-05 sec to run testfunc\n",
      "Took 4.100799560546875e-05 sec to run testfunc\n"
     ]
    }
   ]
  },
  {
   "cell_type": "markdown",
   "metadata": {},
   "source": [
    "The differences are just too small to be sure.  We need to run our code many more times.\n",
    "\n",
    "Python has a built in module for this, `timeit`.\n",
    "\n",
    "```python\n",
    "import timeit\n",
    "\n",
    "timeit.timeit(stmt='pass', setup='pass', timer=<default timer>, number=1000000, globals=None)\n",
    "\n",
    "# for more: https://docs.python.org/3/library/timeit.html\n",
    "```"
   ]
  },
  {
   "cell_type": "code",
   "metadata": {},
   "source": [
    "import timeit\n",
    "\n",
    "number = 1_000_000\n",
    "\n",
    "elapsed = timeit.timeit(\n",
    "    \"queue.push(1)\",\n",
    "    setup=\"queue = QueueCls()\",\n",
    "    globals={\"QueueCls\": ArrayQueue},\n",
    "    number=number,\n",
    ")\n",
    "elapsed2 = timeit.timeit(\n",
    "    \"queue.push(1)\",\n",
    "    setup=\"queue = QueueCls()\",\n",
    "    globals={\"QueueCls\": DequeQueue},\n",
    "    number=number,\n",
    ")\n",
    "print(f\"{number}x ArrayQueue.push, took\", elapsed)\n",
    "print(f\"{number}x DequeQueue.push, took\", elapsed2)\n",
    "print(f\"DequeQueue is {(elapsed-elapsed2) / elapsed * 100:.3f}% faster\")"
   ],
   "execution_count": 12,
   "outputs": [
    {
     "name": "stdout",
     "output_type": "stream",
     "text": [
      "1000000x ArrayQueue.push, took 0.0553242500172928\n",
      "1000000x DequeQueue.push, took 0.04197108303196728\n",
      "DequeQueue is 24.136% faster\n"
     ]
    }
   ]
  },
  {
   "cell_type": "code",
   "metadata": {},
   "source": [
    "number = 10_000\n",
    "\n",
    "elapsed = timeit.timeit(\n",
    "    \"queue.pop()\",\n",
    "    setup=\"queue = QueueCls([0] * 1000000)\",\n",
    "    globals={\"QueueCls\": ArrayQueue},\n",
    "    number=number,\n",
    ")\n",
    "elapsed2 = timeit.timeit(\n",
    "    \"queue.pop()\",\n",
    "    setup=\"queue = QueueCls([0] * 1000000)\",\n",
    "    globals={\"QueueCls\": DequeQueue},\n",
    "    number=number,\n",
    ")\n",
    "print(f\"{number}x ArrayQueue.pop, took\", elapsed)\n",
    "print(f\"{number}x DequeQueue.pop, took\", elapsed2)\n",
    "print(f\"DequeQueue is {(elapsed-elapsed2) / elapsed * 100:.3f}% faster\")\n"
   ],
   "execution_count": 13,
   "outputs": [
    {
     "name": "stdout",
     "output_type": "stream",
     "text": [
      "10000x ArrayQueue.pop, took 3.0851611249381676\n",
      "10000x DequeQueue.pop, took 0.00037158397026360035\n",
      "DequeQueue is 99.988% faster\n"
     ]
    }
   ]
  },
  {
   "cell_type": "markdown",
   "metadata": {},
   "source": [
    "### Queue Performance\n",
    "\n",
    "| Operation | ArrayQueue | DequeQueue |\n",
    "| --------- | ---------- | ---------- |\n",
    "| push      | O(1)       | O(1)       |\n",
    "| pop       | O(n)       | O(1)       |\n",
    "\n",
    "\n",
    "## Hash Tables\n",
    "\n",
    "A hash table is a collection that maps keys to values.  Python's `dict` is an implementation of a hash table.\n",
    "\n",
    "For the course project, you will be implementing a hash table without using `dict`.\n",
    "\n",
    "### Hash Table Performance\n",
    "\n",
    "| Operation | Average | Worst Case | \n",
    "| --------- | ---- | ---------- |\n",
    "| lookup    | O(1) | O(n) |\n",
    "| insert    | O(1) | O(n) |\n",
    "| delete    | O(1) | O(n) |\n",
    "\n",
    "Note: These are average case, as we'll see, depending on implementation, worst case can be much worse.\n",
    "\n",
    "A key property for hash tables is that we **do not need to linearly search through them for our data**.\n",
    "\n",
    "If you find yourself scanning every element in a hash table, you're doing something wrong.\n",
    "\n",
    "### Example 1\n",
    "\n",
    "Let's first model a simple hashtable with fixed capacity of 10.  For simplicity we'll stick to string keys.\n",
    "\n",
    "```\n",
    "[    ][    ][    ][    ][    ][    ][    ][    ][    ][    ]\n",
    "```\n",
    "\n",
    "When we get a key-value pair, we need to assign it a bucket.\n",
    "\n",
    "How can we write a function that takes a string and assigns it to a bucket?\n",
    "\n",
    "1. Turn string into a number. **Hash Function**\n",
    "2. Take (number % capacity)"
   ]
  },
  {
   "cell_type": "code",
   "metadata": {},
   "source": [
    "def strhash(key):\n",
    "    # ord converts a character to it's numeric representation\n",
    "    #   ord(\"A\") == 65\n",
    "    #   ord(\"z\") == 122\n",
    "    # etc.\n",
    "    return sum(ord(letter) for letter in key)\n"
   ],
   "execution_count": null,
   "outputs": []
  },
  {
   "cell_type": "code",
   "metadata": {},
   "source": [
    "strhash(\"bear\")"
   ],
   "execution_count": null,
   "outputs": []
  },
  {
   "cell_type": "code",
   "metadata": {},
   "source": [
    "strhash(\"fox\")\n"
   ],
   "execution_count": null,
   "outputs": []
  },
  {
   "cell_type": "code",
   "metadata": {},
   "source": [
    "class Hashtable:\n",
    "    def __init__(self, capacity=10):\n",
    "        self._table = [None] * capacity\n",
    "        self.capacity = capacity\n",
    "\n",
    "    def __setitem__(self, key, value):\n",
    "        index = strhash(key) % self.capacity\n",
    "        self._table[index] = value\n",
    "\n",
    "    def __getitem__(self, key):\n",
    "        index = strhash(key) % self.capacity\n",
    "        value = self._table[index]\n",
    "        if value:\n",
    "            return value\n",
    "        else:\n",
    "            raise KeyError(key)\n",
    "\n",
    "    def display(self):\n",
    "        print(f\"Capacity = {self.capacity}\")\n",
    "        for idx, elem in enumerate(self._table):\n",
    "            if elem:\n",
    "                print(f\"{idx}: {elem}\")\n"
   ],
   "execution_count": null,
   "outputs": []
  },
  {
   "cell_type": "code",
   "metadata": {},
   "source": [
    "h = Hashtable()\n",
    "h[\"bear\"] = 3\n",
    "h[\"fox\"] = 12\n",
    "h.display()"
   ],
   "execution_count": null,
   "outputs": []
  },
  {
   "cell_type": "code",
   "metadata": {},
   "source": [
    "print(h[\"bear\"])"
   ],
   "execution_count": null,
   "outputs": []
  },
  {
   "cell_type": "code",
   "metadata": {},
   "source": [
    "strhash(\"bear\") == strhash(\"been\")  # different word, same hash!"
   ],
   "execution_count": null,
   "outputs": []
  },
  {
   "cell_type": "code",
   "metadata": {},
   "source": [
    "h = Hashtable()\n",
    "h[\"bear\"] = 33\n",
    "h[\"been\"] = 12\n",
    "h.display()\n"
   ],
   "execution_count": null,
   "outputs": []
  },
  {
   "cell_type": "markdown",
   "metadata": {},
   "source": [
    "### Linear Probing\n",
    "\n",
    "One solution is to just walk forward in the storage list, until we find an empty space.\n",
    "\n",
    "Either way, we'll need to start storing the key as well.   Let's revise our class:"
   ]
  },
  {
   "cell_type": "code",
   "metadata": {},
   "source": [
    "class Hashtable:\n",
    "    def __init__(self, capacity=100):\n",
    "        self._table = [None] * 100\n",
    "        self.capacity = capacity\n",
    "\n",
    "    def __setitem__(self, key, value):\n",
    "        index = strhash(key) % self.capacity\n",
    "        while self._table[index] is not None:\n",
    "            index += 1\n",
    "            # Handling wrap-around omitted for brevity\n",
    "\n",
    "        # we now store the key and value\n",
    "        self._table[index] = (key, value)\n",
    "\n",
    "    def __getitem__(self, key):\n",
    "        index = strhash(key) % self.capacity\n",
    "\n",
    "        # walk forward until we either reach the item or an empty space\n",
    "        while self._table[index] is not None:\n",
    "            if self._table[index][0] == key:\n",
    "                return self._table[index][1]\n",
    "            index += 1\n",
    "            # Handling wrap-around omitted for brevity\n",
    "\n",
    "        # if code got here, the item wasn't in the list\n",
    "        raise KeyError(key)\n",
    "\n",
    "    def display(self):\n",
    "        print(f\"Capacity = {self.capacity}\")\n",
    "        for idx, elem in enumerate(self._table):\n",
    "            if elem:\n",
    "                print(f\"{idx}: {elem}\")\n"
   ],
   "execution_count": null,
   "outputs": []
  },
  {
   "cell_type": "code",
   "metadata": {},
   "source": [
    "h = Hashtable()\n",
    "h[\"bear\"] = 33\n",
    "h[\"been\"] = 12\n",
    "h.display()"
   ],
   "execution_count": null,
   "outputs": []
  },
  {
   "cell_type": "code",
   "metadata": {},
   "source": [
    "print(h[\"bear\"])\n",
    "print(h[\"been\"])\n"
   ],
   "execution_count": null,
   "outputs": []
  },
  {
   "cell_type": "markdown",
   "metadata": {},
   "source": [
    "### Separate Chaining\n",
    "\n",
    "Another solution is to use a linked list to store multiple items in the same bucket.\n",
    "\n",
    "![](images/hashtable-chaining.png)\n",
    "\n",
    "This is the approach we're asking you to use for the course project.\n",
    "\n",
    "**What happens if we have a lot of items in the same bucket?**\n",
    "\n",
    "\n",
    "### Better Hash Function\n",
    "\n",
    "Ideally a hash function will evenly distribute values across the collection.\n",
    "\n",
    "A common pattern is to use a polynomial hash function.\n",
    "\n",
    "$$h(x_0, ..., x_n) = (\\sum_{i=0}^{k-1}{c_ip^i})\\mod{m}$$\n",
    "\n",
    "Where:\n",
    "- $x_0...x_i $ is the sequence\n",
    "- $k = len(x)$\n",
    "- $c_i$ is the numeric value of the character $x_i$ ($ord(x$ in Python)\n",
    "- $p$ is an arbitrary constant.\n",
    "- and $m$ is the size of the collection.\n",
    "\n",
    "```python\n",
    "    def _hash(self, key):\n",
    "        \"\"\"\n",
    "        This method takes in a string and returns \n",
    "        an integer value between 0 and self.capacity.\n",
    "\n",
    "        This particular hash function uses \n",
    "        Horner's rule to compute a large polynomial.\n",
    "        \"\"\"\n",
    "        val = 0\n",
    "        for letter in key:\n",
    "            val = self.P_CONSTANT * val + ord(letter)\n",
    "        return val % self.capacity\n",
    "```\n",
    "\n",
    "### Questions\n",
    "\n",
    "* Linear probing vs. separate chaining? Other approaches?\n",
    "* What if our hash function wasn't reliable?\n",
    "\n",
    "### Rehashing\n",
    "\n",
    "As we add more items to our hash table, we'll eventually run out of space.  We can increase the capacity of our table, but we'll need to rehash all of our existing items.\n",
    "\n",
    "Because which bucket we choose depends on `hash(item) % capacity` items would end up in different buckets if we change capacity.\n",
    "\n",
    "This means when we resize, we need to rehash all of our items.\n",
    "\n",
    "A common pattern is to double capacity when the table is ~50% full.\n",
    "\n",
    "## Trees\n",
    "\n",
    "Somewhat similar to lists but instead of each node having a \"next\", nodes can have multiple children.\n",
    "\n",
    "\n",
    "### Binary Search Tree"
   ]
  },
  {
   "cell_type": "code",
   "metadata": {},
   "source": [
    "class Node:\n",
    "    def __init__(self, value, left=None, right=None):\n",
    "        self.value = value\n",
    "        self.left = left\n",
    "        self.right = right\n",
    "\n",
    "    def __str__(self):\n",
    "        return f\"({self.value}, {self.left}, {self.right})\"\n",
    "\n",
    "\n",
    "class BST:\n",
    "    def __init__(self, iterable=None):\n",
    "        self.root = None\n",
    "        if iterable:\n",
    "            for item in iterable:\n",
    "                self.add_item(item)\n",
    "\n",
    "    def add_item(self, newval):\n",
    "        # special case: first item\n",
    "        if self.root is None:\n",
    "            self.root = Node(newval)\n",
    "        else:\n",
    "            parent = self.root\n",
    "            # traverse until we find room in the tree\n",
    "            while True:\n",
    "                if newval < parent.value:\n",
    "                    if parent.left:\n",
    "                        parent = parent.left\n",
    "                    else:\n",
    "                        parent.left = Node(newval)\n",
    "                        break\n",
    "                else:\n",
    "                    if parent.right:\n",
    "                        parent = parent.right\n",
    "                    else:\n",
    "                        parent.right = Node(newval)\n",
    "                        break\n",
    "\n",
    "\n",
    "def print_infix(node):\n",
    "    \"\"\"prints items in sorted order\"\"\"\n",
    "    if node.left:\n",
    "        print_infix(node.left)\n",
    "    print(node.value)\n",
    "    if node.right:\n",
    "        print_infix(node.right)\n"
   ],
   "execution_count": null,
   "outputs": []
  },
  {
   "cell_type": "markdown",
   "metadata": {},
   "source": [
    "Tree traversal is inherently recursive, so we'll use a recursive function to print the tree in sorted order.\n",
    "\n",
    "Most tree algorithms will operate on the left & right subtrees the same way, so we can write a recursive function that takes a node and calls itself on the left & right subtrees."
   ]
  },
  {
   "cell_type": "code",
   "metadata": {},
   "source": [
    "tree = BST()\n",
    "tree.add_item(\"Fox\")\n",
    "tree.add_item(\"Wolf\")\n",
    "tree.add_item(\"Bear\")\n",
    "tree.add_item(\"Raccoon\")\n",
    "tree.add_item(\"Rabbit\")"
   ],
   "execution_count": null,
   "outputs": []
  },
  {
   "cell_type": "code",
   "metadata": {},
   "source": [
    "print_infix(tree.root)"
   ],
   "execution_count": null,
   "outputs": []
  },
  {
   "cell_type": "markdown",
   "metadata": {},
   "source": [
    "#### Aside: defaultdict\n",
    "\n",
    "```python\n",
    "# common pattern:\n",
    "if key not in dct:\n",
    "    dct[key] = []\n",
    "dct[key].append(element)\n",
    "```\n",
    "\n",
    "We can instead use `collections.defaultdict`:"
   ]
  },
  {
   "cell_type": "code",
   "metadata": {},
   "source": [
    "from collections import defaultdict\n",
    "\n",
    "# give defaultdict a function that it will use to generate missing keys\n",
    "dd = defaultdict(set)\n",
    "\n",
    "print(dd[\"newkey\"])\n",
    "print(dd)\n",
    "\n",
    "dd[\"newset\"].add(1)  # can add to set without ensuring it exists"
   ],
   "execution_count": null,
   "outputs": []
  },
  {
   "cell_type": "markdown",
   "metadata": {},
   "source": [
    "## Graphs\n",
    "\n",
    "![](https://www.simplilearn.com/ice9/free_resources_article_thumb/Graph%20Data%20Structure%20-%20Soni/what-is-graphs-in-data-structure.png)"
   ]
  },
  {
   "cell_type": "code",
   "metadata": {},
   "source": [
    "class Graph:\n",
    "    def __init__(self):\n",
    "        # create a dictionary where every string maps to a set of strings\n",
    "        self.edges = defaultdict(set)\n",
    "\n",
    "    def add_edge(self, node1, node2):\n",
    "        # add in both directions, could alter for directed graph\n",
    "        self.edges[node1].add(node2)\n",
    "        self.edges[node2].add(node1)\n",
    "\n",
    "    def find_path(self, from_node, to_node, seen=None):\n",
    "        if not seen:\n",
    "            seen = set()\n",
    "\n",
    "        if to_node in self.edges[from_node]:\n",
    "            return (from_node, to_node)\n",
    "        else:\n",
    "            for sibling in self.edges[from_node] - seen:\n",
    "                return (from_node,) + self.find_path(\n",
    "                    sibling, to_node, seen | set(sibling)\n",
    "                )\n",
    "            # return self.find_path(\n"
   ],
   "execution_count": null,
   "outputs": []
  },
  {
   "cell_type": "code",
   "metadata": {},
   "source": [
    "g = Graph()\n",
    "g.add_edge(\"A\", \"D\")\n",
    "g.add_edge(\"B\", \"D\")"
   ],
   "execution_count": null,
   "outputs": []
  },
  {
   "cell_type": "code",
   "metadata": {},
   "source": [
    "g.find_path(\"A\", \"B\")"
   ],
   "execution_count": null,
   "outputs": []
  },
  {
   "cell_type": "code",
   "metadata": {},
   "source": [
    "g = Graph()\n",
    "g.add_edge(\"A\", \"B\")\n",
    "g.add_edge(\"B\", \"C\")\n",
    "g.add_edge(\"C\", \"D\")\n",
    "g.add_edge(\"D\", \"E\")\n",
    "g.find_path(\"A\", \"E\")"
   ],
   "execution_count": null,
   "outputs": []
  },
  {
   "cell_type": "markdown",
   "metadata": {},
   "source": [
    "### Discussion\n",
    "\n",
    "* Graphs & Trees in the real world?\n",
    "* Alternate implementations?"
   ]
  }
 ],
 "metadata": {
  "kernelspec": {
   "name": "python3",
   "language": "python",
   "display_name": "Python 3 (ipykernel)"
  }
 },
 "nbformat": 4,
 "nbformat_minor": 4
}
