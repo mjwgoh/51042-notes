{
 "cells": [
  {
   "cell_type": "markdown",
   "id": "84764bb7",
   "metadata": {},
   "source": [
    "# Advanced Classes & OOP Design\n"
   ]
  },
  {
   "cell_type": "markdown",
   "id": "148041af",
   "metadata": {},
   "source": [
    "## Classes Revisited\n",
    "\n",
    "Last week, we learned about defining our own classes.\n",
    "\n",
    "Classes have **attributes**, and **methods**, which are variables & functions associated with individual **instances**."
   ]
  },
  {
   "cell_type": "code",
   "execution_count": 5,
   "id": "00587153",
   "metadata": {},
   "outputs": [],
   "source": [
    "import datetime\n",
    "\n",
    "class Car:\n",
    "    def __init__(self, make, model, year):\n",
    "        self.make = make \n",
    "        self.model = model \n",
    "        self.year = year\n",
    "    \n",
    "    def compute_age(self):\n",
    "        return datetime.date.today().year - self.year "
   ]
  },
  {
   "cell_type": "code",
   "execution_count": 6,
   "id": "92f29839",
   "metadata": {},
   "outputs": [
    {
     "name": "stdout",
     "output_type": "stream",
     "text": [
      "Car 1 make = Honda\n",
      "Car 2 make = Toyota\n"
     ]
    }
   ],
   "source": [
    "car1 = Car(\"Honda\", \"Accord\", 2019)\n",
    "car2 = Car(\"Toyota\", \"RAV4\", 2006)\n",
    "# make attribute is different for the two instances because their data (i.e. attributes)\n",
    "# are unique to that instance \n",
    "print(f'Car 1 make = {car1.make}\\nCar 2 make = {car2.make}') "
   ]
  },
  {
   "cell_type": "markdown",
   "id": "40b5338a",
   "metadata": {},
   "source": [
    "### Class Attributes\n",
    "\n",
    "Sometimes we want to share data between all instances of a given class.\n",
    "\n",
    "All cars have 4 wheels, so we could define a shared variable accessible to all instances of the `Car` class.\n",
    "\n",
    "To do this, we create them within the `class` body, usually right above the `__init__`."
   ]
  },
  {
   "cell_type": "code",
   "execution_count": 2,
   "id": "2d8e5e7d",
   "metadata": {},
   "outputs": [],
   "source": [
    "import datetime\n",
    "\n",
    "class Car:\n",
    "    # class attribute\n",
    "    wheels = 4\n",
    "    \n",
    "    def __init__(self, make, model, year):\n",
    "        self.make = make \n",
    "        self.model = model \n",
    "        self.year = year\n",
    "    \n",
    "    def compute_age(self):\n",
    "        return datetime.date.today().year - self.year \n",
    "    \n",
    "    \n",
    "car1 = Car(\"Honda\", \"Accord\", 2019)\n",
    "car2 = Car(\"Toyota\", \"RAV4\", 2006)"
   ]
  },
  {
   "cell_type": "code",
   "execution_count": 3,
   "id": "844c96f6",
   "metadata": {},
   "outputs": [
    {
     "name": "stdout",
     "output_type": "stream",
     "text": [
      "4\n",
      "4\n",
      "4\n"
     ]
    }
   ],
   "source": [
    "# class attribute can be accessed on instances, or the class itself\n",
    "\n",
    "print(Car.wheels)\n",
    "print(car1.wheels)\n",
    "print(car2.wheels)"
   ]
  },
  {
   "cell_type": "code",
   "execution_count": 4,
   "id": "75978231",
   "metadata": {},
   "outputs": [
    {
     "data": {
      "text/plain": "True"
     },
     "execution_count": 4,
     "metadata": {},
     "output_type": "execute_result"
    }
   ],
   "source": [
    "# these are all the same variable\n",
    "Car.wheels is car1.wheels"
   ]
  },
  {
   "cell_type": "code",
   "execution_count": 5,
   "id": "d55fc69f",
   "metadata": {},
   "outputs": [
    {
     "name": "stdout",
     "output_type": "stream",
     "text": [
      "3\n",
      "3\n"
     ]
    }
   ],
   "source": [
    "# which means changes to the class attribute\n",
    "# will modify for all classes \n",
    "\n",
    "Car.wheels = 3\n",
    "print(car1.wheels)\n",
    "print(car2.wheels)"
   ]
  },
  {
   "cell_type": "code",
   "execution_count": 6,
   "id": "95fca593",
   "metadata": {},
   "outputs": [
    {
     "name": "stdout",
     "output_type": "stream",
     "text": [
      "False\n",
      "3\n",
      "2\n",
      "3\n"
     ]
    }
   ],
   "source": [
    "# note: assigning to an instance attribute makes a new attribute\n",
    "\n",
    "# creates a new instance variable!\n",
    "car2.wheels = 2\n",
    "print(car2.wheels is car1.wheels)\n",
    "print(car1.wheels)\n",
    "print(car2.wheels)\n",
    "print(Car.wheels)"
   ]
  },
  {
   "cell_type": "markdown",
   "id": "3b675449",
   "metadata": {},
   "source": [
    "### Class Methods\n",
    "\n",
    "It can also be useful to provide methods that are accessible to all instances of a class.\n",
    "\n",
    "Class methods are similar to instance methods with a few distinctions:\n",
    "\n",
    "1. They can not access instance methods or attributes.\n",
    "2. The first argument to the method is not `self`, but instead `cls` by convention.  `cls` is the class object itself (e.g. `Car`)\n",
    "3. Class methods are declared with the `@classmethod` decorator."
   ]
  },
  {
   "cell_type": "code",
   "execution_count": 12,
   "id": "51ebc6b4",
   "metadata": {},
   "outputs": [],
   "source": [
    "from datetime import date\n",
    "\n",
    "class Car: \n",
    "    \n",
    "    # wheels class attribute \n",
    "    wheels = 4\n",
    "    # tire pressure class attribute  \n",
    "    psi = 35 \n",
    "    \n",
    "    def __init__(self, make, model, year):\n",
    "        self.make = make \n",
    "        self.model = model \n",
    "        self.year = year\n",
    "    \n",
    "    def compute_age(self):\n",
    "        current_year = int(date.today().year)\n",
    "        return current_year - self.year \n",
    "    \n",
    "    @classmethod \n",
    "    def tire_description(cls):\n",
    "        return f'Car has {cls.wheels} wheels with a tire pressure of {Car.psi}' \n",
    "    \n",
    "car1 = Car(\"Honda\", \"Accord\", 2019)\n",
    "car2 = Car(\"Toyota\", \"RAV4\", 2006)"
   ]
  },
  {
   "cell_type": "code",
   "execution_count": 13,
   "id": "896f7b13",
   "metadata": {},
   "outputs": [
    {
     "name": "stdout",
     "output_type": "stream",
     "text": [
      "Car has 4 wheels with a tire pressure of 35\n",
      "Car has 4 wheels with a tire pressure of 35\n"
     ]
    }
   ],
   "source": [
    "print(Car.tire_description())\n",
    "print(car1.tire_description())"
   ]
  },
  {
   "cell_type": "markdown",
   "id": "b0846906",
   "metadata": {},
   "source": [
    "Notice that we can use `Car.psi` or `cls.wheels` to access class attributes. `cls` is generally preferred, both to avoid repetition and for reasons we'll see when we get to inheritance.\n",
    "\n",
    "Finally, note that we can access class methods and instances from within instance methods. (but not vice-versa!)"
   ]
  },
  {
   "cell_type": "code",
   "execution_count": 7,
   "id": "ac937af3",
   "metadata": {},
   "outputs": [],
   "source": [
    "from datetime import date\n",
    "class Car: \n",
    "    \n",
    "    # wheels class attribute \n",
    "    wheels = 4\n",
    "    \n",
    "    # tire pressure amount \n",
    "    psi = 35 \n",
    "    \n",
    "    def __init__(self, make, model, year):\n",
    "        self.make = make \n",
    "        self.model = model \n",
    "        self.year = year\n",
    "    \n",
    "    def compute_age(self):\n",
    "        current_year = int(date.today().year)\n",
    "        return current_year - self.year \n",
    "    \n",
    "    @classmethod \n",
    "    def tire_description(cls):\n",
    "        return f'Car has {cls.wheels} wheels, each with a tire pressure of {Car.psi}' \n",
    "\n",
    "    def __repr__(self): \n",
    "        instance_str = f'Car(make={self.make}, model={self.model}, year={self.year}, '\n",
    "        instance_str += f'wheels={Car.wheels}, {self.tire_description()})'\n",
    "        return instance_str"
   ]
  },
  {
   "cell_type": "code",
   "execution_count": 15,
   "id": "f5c01339",
   "metadata": {},
   "outputs": [
    {
     "name": "stdout",
     "output_type": "stream",
     "text": [
      "Car(make=Honda, model=Civic, year=2019, wheels=4, Car has 4 wheels, each with a tire pressure of 35)\n"
     ]
    }
   ],
   "source": [
    "car1 = Car(\"Honda\", \"Civic\", 2019)\n",
    "print(car1)"
   ]
  },
  {
   "cell_type": "markdown",
   "id": "d8d86303",
   "metadata": {},
   "source": [
    "### Alternate Constructors\n",
    "\n",
    "A common use of class methods is to define alternate ways to initialize an isntance.  In Python there can only be one constructor (`__init__`), whereas some other languages allow multiple.\n",
    "\n",
    "Perhaps we have Car data coming from a file, meaning we'd have strings like:"
   ]
  },
  {
   "cell_type": "code",
   "execution_count": 11,
   "id": "3b43bc24",
   "metadata": {},
   "outputs": [],
   "source": [
    "car1str = \"Pontiac|Grand Am|1997\"\n",
    "car2str = \"Ford|Mustang|1970\"\n",
    "car3str = \"Hyundai|Sonata|2007\""
   ]
  },
  {
   "cell_type": "code",
   "execution_count": 12,
   "id": "459b7a18",
   "metadata": {},
   "outputs": [],
   "source": [
    "from datetime import date\n",
    "class Car: \n",
    "    wheels = 4\n",
    "    psi = 35\n",
    "    \n",
    "    def __init__(self, make, model, year):\n",
    "        self.make = make \n",
    "        self.model = model \n",
    "        self.year = year\n",
    "        \n",
    "    @classmethod\n",
    "    def from_string(cls, string):\n",
    "        make, model, year = string.split(\"|\")\n",
    "        # invoke Car's constructor\n",
    "        return cls(make, model, year)\n",
    "    \n",
    "    def compute_age(self):\n",
    "        current_year = int(date.today().year)\n",
    "        return current_year - self.year \n",
    "    \n",
    "    @classmethod \n",
    "    def tire_description(cls):\n",
    "        return f'Car has {cls.wheels} wheels, each with a tire pressure of {Car.psi}' \n",
    "\n",
    "    def __repr__(self): \n",
    "        instance_str = f'Car(make={self.make}, model={self.model}, year={self.year}, '\n",
    "        instance_str += f'wheels={Car.wheels})'\n",
    "        return instance_str"
   ]
  },
  {
   "cell_type": "code",
   "execution_count": 13,
   "outputs": [
    {
     "data": {
      "text/plain": "<__main__.Car at 0x107d23650>"
     },
     "execution_count": 13,
     "metadata": {},
     "output_type": "execute_result"
    }
   ],
   "source": [
    "car1"
   ],
   "metadata": {
    "collapsed": false
   }
  },
  {
   "cell_type": "code",
   "execution_count": 14,
   "id": "7ff58ab8",
   "metadata": {},
   "outputs": [],
   "source": [
    "car1 = Car.from_string(car1str)\n",
    "car2 = Car.from_string(car2str)\n",
    "car3 = Car.from_string(car3str)"
   ]
  },
  {
   "cell_type": "code",
   "execution_count": 15,
   "id": "4a188f7d",
   "metadata": {},
   "outputs": [
    {
     "name": "stdout",
     "output_type": "stream",
     "text": [
      "Car(make=Pontiac, model=Grand Am, year=1997, wheels=4)\n",
      "Car(make=Ford, model=Mustang, year=1970, wheels=4)\n",
      "Car(make=Hyundai, model=Sonata, year=2007, wheels=4)\n"
     ]
    }
   ],
   "source": [
    "print(car1)\n",
    "print(car2)\n",
    "print(car3)"
   ]
  },
  {
   "cell_type": "markdown",
   "id": "30f67378",
   "metadata": {},
   "source": [
    "This is a common pattern, seen throughout Python:\n",
    "\n",
    " - ``int.from_bytes()``\n",
    " - ``float.fromhex()`` \n",
    " - ``datetime.date.fromtimestamp()``\n",
    " - ``itertools.chain.from_iterable()``\n"
   ]
  },
  {
   "cell_type": "markdown",
   "id": "9a5d7f8a",
   "metadata": {},
   "source": [
    "### staticmethod\n",
    "\n",
    "Sometimes it makes sense to just attach a method to a class for the purpose of namespacing."
   ]
  },
  {
   "cell_type": "code",
   "execution_count": 20,
   "id": "0c4bd0fe",
   "metadata": {},
   "outputs": [
    {
     "data": {
      "text/plain": "Car(make=Pontiac, model=Grand Am, year=1997, wheels=4)"
     },
     "execution_count": 20,
     "metadata": {},
     "output_type": "execute_result"
    }
   ],
   "source": [
    "def which_is_newer(a, b):\n",
    "    if a.year > b.year:\n",
    "        return a\n",
    "    else:\n",
    "        return b\n",
    "\n",
    "which_is_newer(car1, car2)"
   ]
  },
  {
   "cell_type": "code",
   "execution_count": 16,
   "id": "4be65a35",
   "metadata": {},
   "outputs": [],
   "source": [
    "# it might make sense to attach this to the class, \n",
    "# but neither a classmethod nor an instance method\n",
    "\n",
    "from datetime import date\n",
    "class Car: \n",
    "    wheels = 4\n",
    "    psi = 35\n",
    "    \n",
    "    # does not take self or cls\n",
    "    @staticmethod\n",
    "    def which_is_newer(a, b):\n",
    "        if a.year > b.year:\n",
    "            return a\n",
    "        else:\n",
    "            return b\n",
    "        \n",
    "    @staticmethod\n",
    "    def something():\n",
    "        return []\n",
    "    \n",
    "\n",
    "    \n",
    "    def __init__(self, make, model, year):\n",
    "        self.make = make \n",
    "        self.model = model \n",
    "        self.year = year\n",
    "        \n",
    "    @classmethod\n",
    "    def from_string(cls, string):\n",
    "        make, model, year = string.split(\"|\")\n",
    "        # invoke Car's constructor\n",
    "        return cls(make, model, year)\n",
    "\n",
    "    def __repr__(self): \n",
    "        instance_str = f'Car(make={self.make}, model={self.model}, year={self.year}, '\n",
    "        instance_str += f'wheels={Car.wheels})'\n",
    "        return instance_str"
   ]
  },
  {
   "cell_type": "code",
   "execution_count": 24,
   "id": "d5d6d3a1",
   "metadata": {},
   "outputs": [
    {
     "name": "stdout",
     "output_type": "stream",
     "text": [
      "Car(make=Pontiac, model=Grand Am, year=1997, wheels=4)\n",
      "Car(make=Pontiac, model=Grand Am, year=1997, wheels=4)\n"
     ]
    }
   ],
   "source": [
    "# now would be called this way\n",
    "print(Car.which_is_newer(car1, car2))\n",
    "\n",
    "temp_car = Car(\"make\", \"model\", \"2003\")\n",
    "print(temp_car.which_is_newer(car1, car2))"
   ]
  },
  {
   "cell_type": "markdown",
   "id": "83057f9a",
   "metadata": {},
   "source": [
    "### Encapsulation\n",
    "\n",
    ">``[Encapsulation] allows the implementation of an object's interface to be changed without impacting the users of that object.\"\n",
    "\n",
    "The main idea of encapsulation is to hide implementation details from the users of an object. You only expose a public interface to the users.\n",
    "\n",
    "There are a few ways to encapsulation is handled in Python: \n",
    "\n",
    "- Private attributes using underscores\n",
    "- Getter/Setters\n",
    "- Properties\n",
    "\n",
    "### Private Attributes\n",
    "\n",
    "We saw last week, if we define class attributes with double underscores they are not accessible outside the class."
   ]
  },
  {
   "cell_type": "code",
   "execution_count": 25,
   "id": "58986b85",
   "metadata": {},
   "outputs": [],
   "source": [
    "class Example:\n",
    "    def __init__(self, x, y, z):\n",
    "        self.x = x\n",
    "        self._y = y\n",
    "        self.__z = z\n",
    "        \n",
    "    def __repr__(self):\n",
    "        return f\"Example({self.x}, {self._y}, {self.__z})\"\n",
    "\n",
    "instance = Example(1, 2, 3)"
   ]
  },
  {
   "cell_type": "code",
   "execution_count": 26,
   "id": "3ee8e61c",
   "metadata": {},
   "outputs": [
    {
     "data": {
      "text/plain": "1"
     },
     "execution_count": 26,
     "metadata": {},
     "output_type": "execute_result"
    }
   ],
   "source": [
    "# normal public attribute\n",
    "instance.x"
   ]
  },
  {
   "cell_type": "code",
   "execution_count": 27,
   "id": "88da1ec8",
   "metadata": {},
   "outputs": [
    {
     "data": {
      "text/plain": "2"
     },
     "execution_count": 27,
     "metadata": {},
     "output_type": "execute_result"
    }
   ],
   "source": [
    "# single underscore attributes are private by convention only\n",
    "# (there is no enforcement)\n",
    "instance._y"
   ]
  },
  {
   "cell_type": "code",
   "execution_count": 28,
   "id": "5a0a084a",
   "metadata": {},
   "outputs": [
    {
     "ename": "AttributeError",
     "evalue": "'Example' object has no attribute '__z'",
     "output_type": "error",
     "traceback": [
      "\u001B[0;31m---------------------------------------------------------------------------\u001B[0m",
      "\u001B[0;31mAttributeError\u001B[0m                            Traceback (most recent call last)",
      "Cell \u001B[0;32mIn[28], line 2\u001B[0m\n\u001B[1;32m      1\u001B[0m \u001B[38;5;66;03m# double underscore methods are name-mangled\u001B[39;00m\n\u001B[0;32m----> 2\u001B[0m instance\u001B[38;5;241m.\u001B[39m__z\n",
      "\u001B[0;31mAttributeError\u001B[0m: 'Example' object has no attribute '__z'"
     ]
    }
   ],
   "source": [
    "# double underscore methods are name-mangled\n",
    "instance.__z"
   ]
  },
  {
   "cell_type": "code",
   "execution_count": 29,
   "id": "f7a29f75",
   "metadata": {},
   "outputs": [
    {
     "data": {
      "text/plain": "Example(1, 2, 3)"
     },
     "execution_count": 29,
     "metadata": {},
     "output_type": "execute_result"
    }
   ],
   "source": [
    "instance"
   ]
  },
  {
   "cell_type": "markdown",
   "id": "90708b09",
   "metadata": {},
   "source": [
    "### Getters / Setters\n",
    "\n",
    "Another common pattern to hide data in OOP languages is to use getter and setter methods that control access."
   ]
  },
  {
   "cell_type": "code",
   "execution_count": 30,
   "id": "b2adfb15",
   "metadata": {},
   "outputs": [],
   "source": [
    "class Person:\n",
    "    def __init__(self, name, age):\n",
    "        self.__name = name  #  Assume it has getter/setters \n",
    "        self.set_age(age)\n",
    "\n",
    "    def get_age(self):\n",
    "        return self.__age\n",
    "\n",
    "    def set_age(self, age):\n",
    "        if age < 0:\n",
    "            raise ValueError(\"Person can't have a negative age!\")\n",
    "        self.__age = age\n",
    "        \n",
    "    def set_name(self, name):\n",
    "        if \" \" not in name:\n",
    "            raise ValueError(\"must be at least two words\")\n",
    "        self.__name = name"
   ]
  },
  {
   "cell_type": "code",
   "execution_count": 31,
   "id": "b1a42256",
   "metadata": {},
   "outputs": [],
   "source": [
    "p = Person(\"Joe Biden\", 79)"
   ]
  },
  {
   "cell_type": "code",
   "execution_count": 32,
   "id": "08ef59d4",
   "metadata": {},
   "outputs": [
    {
     "data": {
      "text/plain": "79"
     },
     "execution_count": 32,
     "metadata": {},
     "output_type": "execute_result"
    }
   ],
   "source": [
    "p.get_age()"
   ]
  },
  {
   "cell_type": "code",
   "execution_count": 33,
   "id": "a9b1307e",
   "metadata": {},
   "outputs": [],
   "source": [
    "p.set_age(80)"
   ]
  },
  {
   "cell_type": "code",
   "execution_count": 34,
   "id": "0c713689",
   "metadata": {},
   "outputs": [
    {
     "data": {
      "text/plain": "80"
     },
     "execution_count": 34,
     "metadata": {},
     "output_type": "execute_result"
    }
   ],
   "source": [
    "p.get_age()"
   ]
  },
  {
   "cell_type": "code",
   "execution_count": 35,
   "id": "6f25f9bf",
   "metadata": {},
   "outputs": [
    {
     "ename": "ValueError",
     "evalue": "Person can't have a negative age!",
     "output_type": "error",
     "traceback": [
      "\u001B[0;31m---------------------------------------------------------------------------\u001B[0m",
      "\u001B[0;31mValueError\u001B[0m                                Traceback (most recent call last)",
      "Cell \u001B[0;32mIn[35], line 1\u001B[0m\n\u001B[0;32m----> 1\u001B[0m p\u001B[38;5;241m.\u001B[39mset_age(\u001B[38;5;241m-\u001B[39m\u001B[38;5;241m1\u001B[39m)\n",
      "Cell \u001B[0;32mIn[30], line 11\u001B[0m, in \u001B[0;36mPerson.set_age\u001B[0;34m(self, age)\u001B[0m\n\u001B[1;32m      9\u001B[0m \u001B[38;5;28;01mdef\u001B[39;00m \u001B[38;5;21mset_age\u001B[39m(\u001B[38;5;28mself\u001B[39m, age):\n\u001B[1;32m     10\u001B[0m     \u001B[38;5;28;01mif\u001B[39;00m age \u001B[38;5;241m<\u001B[39m \u001B[38;5;241m0\u001B[39m:\n\u001B[0;32m---> 11\u001B[0m         \u001B[38;5;28;01mraise\u001B[39;00m \u001B[38;5;167;01mValueError\u001B[39;00m(\u001B[38;5;124m\"\u001B[39m\u001B[38;5;124mPerson can\u001B[39m\u001B[38;5;124m'\u001B[39m\u001B[38;5;124mt have a negative age!\u001B[39m\u001B[38;5;124m\"\u001B[39m)\n\u001B[1;32m     12\u001B[0m     \u001B[38;5;28mself\u001B[39m\u001B[38;5;241m.\u001B[39m__age \u001B[38;5;241m=\u001B[39m age\n",
      "\u001B[0;31mValueError\u001B[0m: Person can't have a negative age!"
     ]
    }
   ],
   "source": [
    "p.set_age(-1)"
   ]
  },
  {
   "cell_type": "code",
   "execution_count": 36,
   "id": "01faf10b",
   "metadata": {},
   "outputs": [
    {
     "data": {
      "text/plain": "80"
     },
     "execution_count": 36,
     "metadata": {},
     "output_type": "execute_result"
    }
   ],
   "source": [
    "p.get_age()"
   ]
  },
  {
   "cell_type": "markdown",
   "id": "8937887d",
   "metadata": {},
   "source": [
    "This can become very tedious, and as we've seen they don't actually protect access to variables.  Therefore we typically **avoid getters and setters in Python.**"
   ]
  },
  {
   "cell_type": "markdown",
   "id": "1f8124de",
   "metadata": {},
   "source": [
    "### Properties\n",
    "\n",
    "We want the advantages of encapsulation (being able to avoid improper use, hiding our internal representation, etc.) but without the need to start with a bunch of getter/setter functions from the get go.\n",
    "\n",
    "Python has a much nicer way to control access to attributes via **properties**.\n",
    "\n",
    "There is a built in function `property()` that creates and returns a property object.\n",
    "\n",
    "`property(fget=None, fset=None, fdel=None, doc=None)`\n",
    "\n",
    "- `fget` is a function to get value of the attribute\n",
    "- `fset` is a function to set value of the attribute\n",
    "- `fdel` is a function to delete the attribute\n",
    "- `doc` is a docstring for the attribute"
   ]
  },
  {
   "cell_type": "code",
   "execution_count": 35,
   "id": "d78f0e44",
   "metadata": {},
   "outputs": [],
   "source": [
    "class Person:\n",
    "    def __init__(self, name, age):\n",
    "        self.__name = name  #  Assume it has getter/setters \n",
    "        self.age = 4\n",
    "\n",
    "    def get_age(self):\n",
    "        print(\"inside get age\")\n",
    "        return self.__age\n",
    "\n",
    "    def set_age(self, age):\n",
    "        if age < 0:\n",
    "            raise ValueError(\"Person can't have a negative age!\")\n",
    "        self.__age = age\n",
    "        \n",
    "    def __repr__(self):\n",
    "        return f\"Person({self.__name!r}, {self.__age})\"\n",
    "        \n",
    "    age = property(get_age, set_age)"
   ]
  },
  {
   "cell_type": "code",
   "execution_count": 36,
   "id": "7a519323",
   "metadata": {},
   "outputs": [
    {
     "name": "stdout",
     "output_type": "stream",
     "text": [
      "Person('Wayne', 31)\n"
     ]
    }
   ],
   "source": [
    "p = Person(\"Wayne\", 30)\n",
    "p.age = 31\n",
    "print(p)"
   ]
  },
  {
   "cell_type": "code",
   "execution_count": 37,
   "id": "cbde9391",
   "metadata": {},
   "outputs": [
    {
     "ename": "ValueError",
     "evalue": "Person can't have a negative age!",
     "output_type": "error",
     "traceback": [
      "\u001B[0;31m---------------------------------------------------------------------------\u001B[0m",
      "\u001B[0;31mValueError\u001B[0m                                Traceback (most recent call last)",
      "Cell \u001B[0;32mIn [37], line 1\u001B[0m\n\u001B[0;32m----> 1\u001B[0m \u001B[43mp\u001B[49m\u001B[38;5;241;43m.\u001B[39;49m\u001B[43mage\u001B[49m \u001B[38;5;241m=\u001B[39m \u001B[38;5;241m-\u001B[39m\u001B[38;5;241m1\u001B[39m\n",
      "Cell \u001B[0;32mIn [35], line 12\u001B[0m, in \u001B[0;36mPerson.set_age\u001B[0;34m(self, age)\u001B[0m\n\u001B[1;32m     10\u001B[0m \u001B[38;5;28;01mdef\u001B[39;00m \u001B[38;5;21mset_age\u001B[39m(\u001B[38;5;28mself\u001B[39m, age):\n\u001B[1;32m     11\u001B[0m     \u001B[38;5;28;01mif\u001B[39;00m age \u001B[38;5;241m<\u001B[39m \u001B[38;5;241m0\u001B[39m:\n\u001B[0;32m---> 12\u001B[0m         \u001B[38;5;28;01mraise\u001B[39;00m \u001B[38;5;167;01mValueError\u001B[39;00m(\u001B[38;5;124m\"\u001B[39m\u001B[38;5;124mPerson can\u001B[39m\u001B[38;5;124m'\u001B[39m\u001B[38;5;124mt have a negative age!\u001B[39m\u001B[38;5;124m\"\u001B[39m)\n\u001B[1;32m     13\u001B[0m     \u001B[38;5;28mself\u001B[39m\u001B[38;5;241m.\u001B[39m__age \u001B[38;5;241m=\u001B[39m age\n",
      "\u001B[0;31mValueError\u001B[0m: Person can't have a negative age!"
     ]
    }
   ],
   "source": [
    "p.age = -1"
   ]
  },
  {
   "cell_type": "code",
   "execution_count": 38,
   "id": "e8f988ad",
   "metadata": {},
   "outputs": [
    {
     "name": "stdout",
     "output_type": "stream",
     "text": [
      "inside get age\n",
      "31\n"
     ]
    }
   ],
   "source": [
    "print(p.age)"
   ]
  },
  {
   "cell_type": "markdown",
   "id": "cb320dc0",
   "metadata": {},
   "source": [
    "#### @property\n",
    "\n",
    "We can also use `property` as a decorator. \n",
    "\n",
    "- Place the `@property` directly above the function header of the getter function.\n",
    "\n",
    "- Place the code `@name_of_property.setter` above the function header of the setter function. You need to replace the name_of_property with the actual name of the property.\n",
    "\n",
    "- The function names for both the setter/getter need to match."
   ]
  },
  {
   "cell_type": "code",
   "execution_count": 37,
   "id": "df079705",
   "metadata": {},
   "outputs": [],
   "source": [
    "class Person:\n",
    "    def __init__(self, name, age):\n",
    "        self.__name = name  #  Assume it has getter/setters \n",
    "        # invokes setter\n",
    "        self.age = age\n",
    "\n",
    "    @property\n",
    "    def age(self):\n",
    "        return self.__age\n",
    "    #age = property(age)\n",
    "    \n",
    "    @age.setter\n",
    "    def age(self, age):\n",
    "        if age < 0:\n",
    "            raise ValueError(\"Person can't have a negative age!\")\n",
    "        self.__age = age\n",
    "\n",
    "    def __repr__(self):\n",
    "        return f\"Person({self.__name!r}, {self.__age})\""
   ]
  },
  {
   "cell_type": "code",
   "execution_count": 39,
   "id": "bd81cef6",
   "metadata": {},
   "outputs": [
    {
     "ename": "TypeError",
     "evalue": "'int' object is not callable",
     "output_type": "error",
     "traceback": [
      "\u001B[0;31m---------------------------------------------------------------------------\u001B[0m",
      "\u001B[0;31mTypeError\u001B[0m                                 Traceback (most recent call last)",
      "Cell \u001B[0;32mIn[39], line 3\u001B[0m\n\u001B[1;32m      1\u001B[0m p2 \u001B[38;5;241m=\u001B[39m Person(\u001B[38;5;124m\"\u001B[39m\u001B[38;5;124mEmma\u001B[39m\u001B[38;5;124m\"\u001B[39m, \u001B[38;5;241m28\u001B[39m)\n\u001B[1;32m      2\u001B[0m \u001B[38;5;66;03m#p2.age = -1\u001B[39;00m\n\u001B[0;32m----> 3\u001B[0m p2\u001B[38;5;241m.\u001B[39mage(\u001B[38;5;241m4\u001B[39m)\n\u001B[1;32m      4\u001B[0m \u001B[38;5;28mprint\u001B[39m(p2\u001B[38;5;241m.\u001B[39mage)\n",
      "\u001B[0;31mTypeError\u001B[0m: 'int' object is not callable"
     ]
    }
   ],
   "source": [
    "p2 = Person(\"Emma\", 28)\n",
    "#p2.age = -1\n",
    "p2.age = 4\n",
    "print(p2.age)"
   ]
  },
  {
   "cell_type": "markdown",
   "id": "0c918b7e",
   "metadata": {},
   "source": [
    "This allows us to start class attributes as public, and add properties as needed."
   ]
  },
  {
   "cell_type": "code",
   "execution_count": 110,
   "id": "c54f2d34",
   "metadata": {},
   "outputs": [],
   "source": [
    "class Point:\n",
    "    def __init__(self, x, y):\n",
    "        self.x = x \n",
    "        self.y = y"
   ]
  },
  {
   "cell_type": "code",
   "execution_count": 111,
   "id": "1a21a379",
   "metadata": {},
   "outputs": [],
   "source": [
    "p = Point(10, 10)"
   ]
  },
  {
   "cell_type": "markdown",
   "id": "3a149b27",
   "metadata": {},
   "source": [
    "#### Read-only/Calculated Properties"
   ]
  },
  {
   "cell_type": "code",
   "execution_count": 42,
   "id": "86efae9b",
   "metadata": {},
   "outputs": [],
   "source": [
    "class Rectangle: \n",
    "    \n",
    "    def __init__(self,width,height):\n",
    "        self.width = width \n",
    "        self.height = height \n",
    "        self.other_area = self.width * self.height\n",
    "    \n",
    "    # read-only calculated property\n",
    "    @property \n",
    "    def area(self):\n",
    "        return self.width * self.height "
   ]
  },
  {
   "cell_type": "code",
   "execution_count": 43,
   "id": "aeffa7e6",
   "metadata": {},
   "outputs": [],
   "source": [
    "r = Rectangle(3, 9)\n"
   ]
  },
  {
   "cell_type": "code",
   "execution_count": 45,
   "id": "cd2da5b4",
   "metadata": {},
   "outputs": [
    {
     "name": "stdout",
     "output_type": "stream",
     "text": [
      "27 27\n"
     ]
    }
   ],
   "source": [
    "print(r.other_area, r.area)"
   ]
  },
  {
   "cell_type": "code",
   "execution_count": 46,
   "id": "34298e84",
   "metadata": {},
   "outputs": [
    {
     "name": "stdout",
     "output_type": "stream",
     "text": [
      "27 54\n"
     ]
    }
   ],
   "source": [
    "r.width = 6\n",
    "print(r.other_area, r.area)"
   ]
  },
  {
   "cell_type": "code",
   "execution_count": 115,
   "id": "d01b781a",
   "metadata": {},
   "outputs": [
    {
     "ename": "AttributeError",
     "evalue": "can't set attribute 'area'",
     "output_type": "error",
     "traceback": [
      "\u001B[0;31m---------------------------------------------------------------------------\u001B[0m",
      "\u001B[0;31mAttributeError\u001B[0m                            Traceback (most recent call last)",
      "Cell \u001B[0;32mIn [115], line 1\u001B[0m\n\u001B[0;32m----> 1\u001B[0m \u001B[43mr\u001B[49m\u001B[38;5;241;43m.\u001B[39;49m\u001B[43marea\u001B[49m \u001B[38;5;241m=\u001B[39m \u001B[38;5;241m4\u001B[39m\n",
      "\u001B[0;31mAttributeError\u001B[0m: can't set attribute 'area'"
     ]
    }
   ],
   "source": [
    "r.area = 4"
   ]
  },
  {
   "cell_type": "markdown",
   "id": "44ca09f7",
   "metadata": {},
   "source": [
    "## Inheritance\n",
    "\n",
    "### Motivations\n",
    "\n",
    "Let's say we're building an application that tracks students."
   ]
  },
  {
   "cell_type": "code",
   "execution_count": 42,
   "id": "feaa69a2",
   "metadata": {},
   "outputs": [],
   "source": [
    "class Student:\n",
    "    \n",
    "    next_id_counter = 1\n",
    "    \n",
    "    def __init__(self, name):\n",
    "        # assign each student a unique id\n",
    "        self.id = Student.next_id_counter\n",
    "        Student.next_id_counter += 1\n",
    "        \n",
    "        self.name = name\n",
    "        self.year = 1\n",
    "        self.major = \"Undeclared\"\n",
    "        self.course_grades = {}\n",
    "        \n",
    "    def add_grade(self, course_name, grade):\n",
    "        self.course_grades[course_name] = grade\n",
    "    \n",
    "    @property\n",
    "    def gpa(self):\n",
    "        grade_pts = {\"A\":4.0, \"A-\":3.7, \"B+\":3.3, \"B\":3.0, \"B-\":2.7, \"C+\":2.3, \"C\":2.0, \"C-\":1.7, \"D+\":1.3, \"D\":1.0, \"F\":0.0} \n",
    "        if len(self.course_grades) == 0:\n",
    "            return 0\n",
    "        return sum(grade_pts[g] for g in self.course_grades.values()) / len(self.course_grades)\n",
    "    \n",
    "    def __repr__(self):\n",
    "        return f\"Student(name={self.name}, id={self.id}, gpa={self.gpa})\""
   ]
  },
  {
   "cell_type": "code",
   "execution_count": 43,
   "id": "c410fb1d",
   "metadata": {},
   "outputs": [],
   "source": [
    "s1 = Student(\"Adam\")\n",
    "s2 = Student(\"Beth\")\n",
    "s2.add_grade(\"Programming Python\", \"A\")\n",
    "s2.add_grade(\"Discrete Math\", \"B+\")"
   ]
  },
  {
   "cell_type": "code",
   "execution_count": 44,
   "id": "f9deab26",
   "metadata": {},
   "outputs": [
    {
     "name": "stdout",
     "output_type": "stream",
     "text": [
      "Student(name=Adam, id=1, gpa=0)\n",
      "Student(name=Beth, id=2, gpa=3.65)\n"
     ]
    }
   ],
   "source": [
    "print(s1)\n",
    "print(s2)"
   ]
  },
  {
   "cell_type": "markdown",
   "id": "6aa3358d",
   "metadata": {},
   "source": [
    "Perhaps we want to add `Alumni` to our application.\n",
    "\n",
    "An alum will have some things in common with students:\n",
    "\n",
    "- They still have a name.\n",
    "- We want to remember their major.\n",
    "- We'll still want to keep track of their grades/GPA.\n",
    "\n",
    "We now also:\n",
    "\n",
    "- Want to record their year of graduation.\n",
    "- No longer want to allow grades to be recorded.\n",
    "- Want to be able to calculate how long ago they graduated.\n",
    "- When displaying them, we want to display their graduation year.\n",
    "\n",
    "**How to implement?**\n",
    "\n",
    "We *could* copy `student.py` and rename to `alum.py` and rename the class as needed.\n",
    "\n",
    "**But copying & pasting is generally a bad idea!**\n",
    "\n",
    "We'd need to fix bugs & add features in both classes separately.\n",
    "\n",
    "A new feature in `Student` would need to be copied over to `Alum`, this will quickly get messy.\n"
   ]
  },
  {
   "cell_type": "markdown",
   "id": "d0d61727",
   "metadata": {},
   "source": [
    "### Implementation\n",
    "\n",
    "Instead we will use **inheritance**, which allows us to create a new class from an existing one.  The new class inherits the attributes and methods from the parent.\n",
    "\n",
    "- **superclass**, **parent**, or **base** class: The pre-existing class.\n",
    "- **subclass**, **child**, or **derived** class: The new class that inherits the code (attributes & methods) of another class.\n",
    "\n",
    "Subclasses can extend/modify the functionality of superclasses.\n",
    "\n",
    "Syntax:\n",
    "\n",
    "```python\n",
    "class Subclass(Superclass):\n",
    "    pass\n",
    "```\n",
    "\n",
    "For example:\n",
    "\n",
    "```python\n",
    "class Alum(Student):\n",
    "    pass\n",
    "```\n",
    "\n",
    "At this point, `Alum` is a new class with the exact same implementation as `Student`.\n",
    "\n",
    "Typically we'll want to add new instance & class variables, methods, etc.\n",
    "\n",
    "Newly defined features will only apply to instances of `Alum`\n",
    "\n",
    "It is possible to override parent class behavior, or rely on parent behavior, whichever is needed."
   ]
  },
  {
   "cell_type": "markdown",
   "id": "e4d45c9f",
   "metadata": {},
   "source": [
    "### Adding & Overriding Behavior"
   ]
  },
  {
   "cell_type": "code",
   "execution_count": 45,
   "id": "47f7dfc9",
   "metadata": {},
   "outputs": [],
   "source": [
    "class Alum(Student):\n",
    "    def __init__(self, name, grad_year):\n",
    "        # call Student's constructor, which contains id logic\n",
    "        super().__init__(name)\n",
    "        self.graduation_year = grad_year\n",
    "        \n",
    "    # new behavior\n",
    "    def years_since_graduation(self, now):\n",
    "        return now - self.graduation_year\n",
    "    \n",
    "    # overrides parent's add_grade\n",
    "    def add_grade(self, course_name, grade):\n",
    "        print(\"Sorry, you cannot add grades to Alums\")\n",
    "        # we choose not call super().add_grade here\n",
    "    \n",
    "    # overrides parent's __repr__\n",
    "    def __repr__(self):\n",
    "        return f\"Alum(name={self.name}, id={self.id}, gpa={self.gpa}, graduated={self.graduation_year})\""
   ]
  },
  {
   "cell_type": "code",
   "execution_count": 46,
   "id": "4811b0fd",
   "metadata": {},
   "outputs": [
    {
     "name": "stdout",
     "output_type": "stream",
     "text": [
      "Alum(name=Charlie, id=3, gpa=0, graduated=2016)\n",
      "6 years since graduation\n",
      "Sorry, you cannot add grades to Alums\n"
     ]
    },
    {
     "data": {
      "text/plain": "0"
     },
     "execution_count": 46,
     "metadata": {},
     "output_type": "execute_result"
    }
   ],
   "source": [
    "alum1 = Alum(\"Charlie\", 2016)\n",
    "print(alum1)\n",
    "print(alum1.years_since_graduation(2022), \"years since graduation\")\n",
    "alum1.add_grade(\"Python\", \"B\")\n",
    "alum1.gpa"
   ]
  },
  {
   "cell_type": "markdown",
   "id": "3cd672f1",
   "metadata": {},
   "source": [
    "### super()\n",
    "\n",
    "Allows direct access to parent class(es)."
   ]
  },
  {
   "cell_type": "markdown",
   "id": "f6d2c035",
   "metadata": {},
   "source": [
    "### issubclass & isinstance"
   ]
  },
  {
   "cell_type": "code",
   "execution_count": 168,
   "id": "a46d5b02",
   "metadata": {},
   "outputs": [
    {
     "data": {
      "text/plain": [
       "True"
      ]
     },
     "execution_count": 168,
     "metadata": {},
     "output_type": "execute_result"
    }
   ],
   "source": [
    "isinstance(4, int)"
   ]
  },
  {
   "cell_type": "code",
   "execution_count": 169,
   "id": "cd55fd8d",
   "metadata": {},
   "outputs": [
    {
     "data": {
      "text/plain": [
       "True"
      ]
     },
     "execution_count": 169,
     "metadata": {},
     "output_type": "execute_result"
    }
   ],
   "source": [
    "isinstance([1, 2, 3], list)"
   ]
  },
  {
   "cell_type": "code",
   "execution_count": 170,
   "id": "feb9f2ac",
   "metadata": {},
   "outputs": [
    {
     "data": {
      "text/plain": [
       "True"
      ]
     },
     "execution_count": 170,
     "metadata": {},
     "output_type": "execute_result"
    }
   ],
   "source": [
    "s1 = Student(\"Sarah\")\n",
    "isinstance(s1, Student)"
   ]
  },
  {
   "cell_type": "code",
   "execution_count": 171,
   "id": "e6a2f3b1",
   "metadata": {},
   "outputs": [
    {
     "data": {
      "text/plain": [
       "True"
      ]
     },
     "execution_count": 171,
     "metadata": {},
     "output_type": "execute_result"
    }
   ],
   "source": [
    "# child classes are instances of parent types\n",
    "alum1 = Alum(\"Charlie\", 2016)\n",
    "isinstance(alum1, Student)"
   ]
  },
  {
   "cell_type": "code",
   "execution_count": 56,
   "id": "8f759efb",
   "metadata": {},
   "outputs": [
    {
     "data": {
      "text/plain": [
       "False"
      ]
     },
     "execution_count": 56,
     "metadata": {},
     "output_type": "execute_result"
    }
   ],
   "source": [
    "# but not vice-versa\n",
    "isinstance(s1, Alum)"
   ]
  },
  {
   "cell_type": "code",
   "execution_count": 175,
   "id": "1d52b927",
   "metadata": {},
   "outputs": [
    {
     "data": {
      "text/plain": [
       "True"
      ]
     },
     "execution_count": 175,
     "metadata": {},
     "output_type": "execute_result"
    }
   ],
   "source": [
    "# takes class names\n",
    "issubclass(Alum, Student)"
   ]
  },
  {
   "cell_type": "code",
   "execution_count": 57,
   "id": "a71ee1cb",
   "metadata": {},
   "outputs": [
    {
     "data": {
      "text/plain": [
       "False"
      ]
     },
     "execution_count": 57,
     "metadata": {},
     "output_type": "execute_result"
    }
   ],
   "source": [
    "issubclass(Student, Alum)"
   ]
  },
  {
   "cell_type": "code",
   "execution_count": 58,
   "id": "21c07695",
   "metadata": {},
   "outputs": [
    {
     "data": {
      "text/plain": [
       "True"
      ]
     },
     "execution_count": 58,
     "metadata": {},
     "output_type": "execute_result"
    }
   ],
   "source": [
    "# We've been saying \"everything in Python is an object\"\n",
    "\n",
    "# all of these are instances of `object`\n",
    "(isinstance(4, object)\n",
    "and isinstance(print, object)\n",
    "and isinstance(lambda x: x ** 2, object)\n",
    "and isinstance({\"a\": 1}, object)\n",
    "and isinstance(alum1, object)\n",
    "and isinstance(Student, object))"
   ]
  },
  {
   "cell_type": "code",
   "execution_count": 60,
   "id": "ddaa7c56",
   "metadata": {},
   "outputs": [
    {
     "data": {
      "text/plain": [
       "'<function <lambda> at 0x1053e8940>'"
      ]
     },
     "execution_count": 60,
     "metadata": {},
     "output_type": "execute_result"
    }
   ],
   "source": [
    "repr(lambda x: x)"
   ]
  },
  {
   "cell_type": "markdown",
   "id": "32e11764",
   "metadata": {},
   "source": [
    "### `object`\n",
    "\n",
    "Every object derives from a base class named `object`.\n",
    "\n",
    "```python\n",
    "class Point:\n",
    "    def __init__(self, x, y):\n",
    "        self.x = y\n",
    "\n",
    "# Same as:\n",
    "\n",
    "# do not write explicitly in Python 3\n",
    "class Point(object):\n",
    "    def __init__(self, x, y):\n",
    "        self.x = y\n",
    "        self.y = y\n",
    "```\n",
    "\n",
    "### MRO\n",
    "\n",
    "When we call a function, Python walks up the chain of parent classes to determine the first one that has the method defined.\n",
    "\n",
    "This is called the **method resolution order**.\n"
   ]
  },
  {
   "cell_type": "code",
   "execution_count": 185,
   "id": "1d4e00ca",
   "metadata": {},
   "outputs": [
    {
     "name": "stdout",
     "output_type": "stream",
     "text": [
      "Help on Alum in module __main__ object:\n",
      "\n",
      "class Alum(Student)\n",
      " |  Alum(name, grad_year)\n",
      " |  \n",
      " |  Method resolution order:\n",
      " |      Alum\n",
      " |      Student\n",
      " |      builtins.object\n",
      " |  \n",
      " |  Methods defined here:\n",
      " |  \n",
      " |  __init__(self, name, grad_year)\n",
      " |      Initialize self.  See help(type(self)) for accurate signature.\n",
      " |  \n",
      " |  __repr__(self)\n",
      " |      Return repr(self).\n",
      " |  \n",
      " |  add_grade(self, course_name, grade)\n",
      " |      # overrides parent's add_grade\n",
      " |  \n",
      " |  years_since_graduation(self, now)\n",
      " |      # new behavior\n",
      " |  \n",
      " |  ----------------------------------------------------------------------\n",
      " |  Readonly properties inherited from Student:\n",
      " |  \n",
      " |  gpa\n",
      " |  \n",
      " |  ----------------------------------------------------------------------\n",
      " |  Data descriptors inherited from Student:\n",
      " |  \n",
      " |  __dict__\n",
      " |      dictionary for instance variables (if defined)\n",
      " |  \n",
      " |  __weakref__\n",
      " |      list of weak references to the object (if defined)\n",
      " |  \n",
      " |  ----------------------------------------------------------------------\n",
      " |  Data and other attributes inherited from Student:\n",
      " |  \n",
      " |  next_id_counter = 14\n",
      "\n"
     ]
    }
   ],
   "source": [
    "help(alum1)"
   ]
  },
  {
   "cell_type": "markdown",
   "id": "d2519b22",
   "metadata": {},
   "source": [
    "## Abstract Base Classes\n",
    "\n",
    "Sometimes we want to define a class that can't be instantiated directly, but is intended to be inherited from.\n",
    "\n",
    "These are known as **abstract classes**.  This helps us define an interface, which contains a collection of methods that the **concrete class** must implement.\n",
    "\n"
   ]
  },
  {
   "cell_type": "code",
   "execution_count": 47,
   "id": "9f705ba6",
   "metadata": {},
   "outputs": [],
   "source": [
    "def print_dot_prod(v1, v2):\n",
    "    \"\"\" prints dot product between two vectors \"\"\"\n",
    "    print(v1.dot_product(v2))"
   ]
  },
  {
   "cell_type": "markdown",
   "id": "ec8087af",
   "metadata": {},
   "source": [
    "If we want this  method to be polymorphic for vectors of multiple dimensions."
   ]
  },
  {
   "cell_type": "code",
   "execution_count": 48,
   "id": "4b20d7b3",
   "metadata": {},
   "outputs": [],
   "source": [
    "class Vec2:\n",
    "    def __init__(self,x,y):\n",
    "        self.x = x\n",
    "        self.y = y  \n",
    "        \n",
    "class Vec3:\n",
    "    def __init__(self,x,y,z):\n",
    "        self.x = x\n",
    "        self.y = y  \n",
    "        self.z = z "
   ]
  },
  {
   "cell_type": "markdown",
   "id": "86d216a7",
   "metadata": {},
   "source": [
    "We can force that these types implement an interface (i.e., an abstract base class) such that we can guarantee that objects we pass to ``print_dot_prod`` will always work by forcing them to implement a ``dot_product`` method. \n",
    "\n",
    "We will define an abstract class called ``Vector`` that has only the required method: \n",
    "\n",
    "`` def dot_product(self, other) `` "
   ]
  },
  {
   "cell_type": "code",
   "execution_count": 49,
   "id": "a2cddb6d",
   "metadata": {},
   "outputs": [],
   "source": [
    "from abc import ABC, abstractmethod\n",
    "\n",
    "class Vector(ABC):    \n",
    "    @abstractmethod\n",
    "    def dot_product(self, other):\n",
    "        pass"
   ]
  },
  {
   "cell_type": "code",
   "execution_count": 50,
   "id": "a32d26a8",
   "metadata": {},
   "outputs": [
    {
     "ename": "TypeError",
     "evalue": "Can't instantiate abstract class Vector with abstract method dot_product",
     "output_type": "error",
     "traceback": [
      "\u001B[0;31m---------------------------------------------------------------------------\u001B[0m",
      "\u001B[0;31mTypeError\u001B[0m                                 Traceback (most recent call last)",
      "Cell \u001B[0;32mIn[50], line 2\u001B[0m\n\u001B[1;32m      1\u001B[0m \u001B[38;5;66;03m# we can't instantiate abstract classes\u001B[39;00m\n\u001B[0;32m----> 2\u001B[0m v \u001B[38;5;241m=\u001B[39m Vector()\n",
      "\u001B[0;31mTypeError\u001B[0m: Can't instantiate abstract class Vector with abstract method dot_product"
     ]
    }
   ],
   "source": [
    "# we can't instantiate abstract classes\n",
    "v = Vector()"
   ]
  },
  {
   "cell_type": "code",
   "execution_count": 51,
   "id": "5a9ae047",
   "metadata": {},
   "outputs": [],
   "source": [
    "class Vec2(Vector):\n",
    "    def __init__(self, x, y):\n",
    "        self.x = x\n",
    "        self.y = y  \n",
    "        \n",
    "    def dot_product(self, other): \n",
    "        return self.x * other.x + self.y * other.y\n",
    "        \n",
    "class Vec3(Vector):\n",
    "    def __init__(self, x, y, z):\n",
    "        self.x = x\n",
    "        self.y = y  \n",
    "        self.z = z \n",
    "        \n",
    "    def dot_product(self, other): \n",
    "        return self.x * other.x + self.y * other.y + self.z * other.z"
   ]
  },
  {
   "cell_type": "code",
   "execution_count": 52,
   "id": "e25536d1",
   "metadata": {},
   "outputs": [
    {
     "name": "stdout",
     "output_type": "stream",
     "text": [
      "True\n",
      "True\n",
      "----\n",
      "True\n",
      "True\n"
     ]
    }
   ],
   "source": [
    "# now print_dot_prod works\n",
    "\n",
    "# Vec2 and Vec3 objects are instances of Vector since their classes \n",
    "# inherit from the Vector ABC.\n",
    "v2a = Vec2(1,2)\n",
    "v2b = Vec2(3,4)\n",
    "v3a = Vec3(6,7,3)\n",
    "v3b = Vec3(1,2,3)\n",
    "\n",
    "print(isinstance(v2a, Vec2)) \n",
    "print(isinstance(v2a, Vector)) \n",
    "print(\"----\")\n",
    "print(isinstance(v3a, Vec3)) \n",
    "print(isinstance(v3a, Vector))"
   ]
  },
  {
   "cell_type": "code",
   "execution_count": 53,
   "id": "96d41011",
   "metadata": {},
   "outputs": [
    {
     "name": "stdout",
     "output_type": "stream",
     "text": [
      "11\n"
     ]
    }
   ],
   "source": [
    "print_dot_prod(v2a, v2b)"
   ]
  },
  {
   "cell_type": "code",
   "execution_count": 54,
   "id": "7cf62b14",
   "metadata": {},
   "outputs": [
    {
     "name": "stdout",
     "output_type": "stream",
     "text": [
      "29\n"
     ]
    }
   ],
   "source": [
    "print_dot_prod(v3a, v3b)"
   ]
  },
  {
   "cell_type": "markdown",
   "id": "ebbd1b47-601b-4a65-b493-213ccbedf373",
   "metadata": {},
   "source": [
    "## Dataclasses\n",
    "\n",
    "Python 3.7 added `dataclasses` as a handy way to create classes that are mostly responsible for representing data. These classes often have few or no methods defined."
   ]
  },
  {
   "cell_type": "code",
   "execution_count": 55,
   "id": "4f98cf62-52da-4072-bf5a-da7de3ad9a98",
   "metadata": {
    "tags": []
   },
   "outputs": [],
   "source": [
    "from dataclasses import dataclass\n",
    "\n",
    "@dataclass\n",
    "class InventoryItem:\n",
    "    \"\"\"Class for keeping track of an item in inventory.\"\"\"\n",
    "    name: str\n",
    "    unit_price: float\n",
    "    quantity_on_hand: int = 0\n",
    "\n",
    "    def total_cost(self) -> float:\n",
    "        return self.unit_price * self.quantity_on_hand\n"
   ]
  },
  {
   "cell_type": "code",
   "execution_count": 60,
   "id": "8faf9c31-33e4-42f1-a8e8-8b72a7f1f96f",
   "metadata": {
    "tags": []
   },
   "outputs": [],
   "source": [
    "wrench = InventoryItem(\"Wrench\", 12.95, 10)\n",
    "hammer = InventoryItem(\"Hammer\", 16, 8)\n",
    "nails = InventoryItem(\"Nails\", 0.03, 1000)\n",
    "nails2 = InventoryItem(\"Nails\", 0.03, 1000)\n",
    "saw = InventoryItem(\"Saw\", 99)"
   ]
  },
  {
   "cell_type": "markdown",
   "id": "4a088329-2f4d-4548-a750-b0f02df5dc9b",
   "metadata": {},
   "source": [
    "Dataclasses get an automatic `__init__`, `__repr__`, `__eq__`, and several other helpful options.  (Even more is possible via the decorator: https://docs.python.org/3/library/dataclasses.html)"
   ]
  },
  {
   "cell_type": "code",
   "execution_count": 61,
   "id": "e3a8dd5f-55bc-49d2-af83-79c977393b0d",
   "metadata": {
    "tags": []
   },
   "outputs": [
    {
     "name": "stdout",
     "output_type": "stream",
     "text": [
      "True\n"
     ]
    }
   ],
   "source": [
    "nails.total_cost()\n",
    "print(nails == nails2)"
   ]
  },
  {
   "cell_type": "markdown",
   "id": "d8f9a214-3277-40a9-b50c-2aabf5794079",
   "metadata": {
    "tags": []
   },
   "source": [
    "Beyond this, additional methods/staticmethods/etc. can be defined in the usual way.\n",
    "\n",
    "This syntax uses Python's type-hinting, and if you're looking to use it you'll want to get familiar with the rules\n",
    "around complex types: https://docs.python.org/3/library/typing.html\n",
    "\n",
    "Note: These rules have been evolving rapidly from Python 3.6->now.\n",
    "\n",
    "**This is one of the areas where Python version matters, if you are using type hints in this class be sure to do so\n",
    "in a way compatible with Python 3.8**\n",
    "\n"
   ]
  }
 ],
 "metadata": {
  "kernelspec": {
   "display_name": "Python 3 (ipykernel)",
   "language": "python",
   "name": "python3"
  },
  "language_info": {
   "codemirror_mode": {
    "name": "ipython",
    "version": 3
   },
   "file_extension": ".py",
   "mimetype": "text/x-python",
   "name": "python",
   "nbconvert_exporter": "python",
   "pygments_lexer": "ipython3",
   "version": "3.11.5"
  },
  "toc": {
   "base_numbering": 1,
   "nav_menu": {},
   "number_sections": false,
   "sideBar": true,
   "skip_h1_title": false,
   "title_cell": "Table of Contents",
   "title_sidebar": "Contents",
   "toc_cell": false,
   "toc_position": {
    "height": "calc(100% - 180px)",
    "left": "10px",
    "top": "150px",
    "width": "256.933px"
   },
   "toc_section_display": true,
   "toc_window_display": false
  }
 },
 "nbformat": 4,
 "nbformat_minor": 5
}
