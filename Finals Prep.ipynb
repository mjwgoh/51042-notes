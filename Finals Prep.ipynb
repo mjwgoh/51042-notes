{
 "cells": [
  {
   "cell_type": "code",
   "execution_count": 1,
   "outputs": [
    {
     "name": "stdout",
     "output_type": "stream",
     "text": [
      "[1, 3]\n",
      "[1, 3]\n",
      "3\n"
     ]
    }
   ],
   "source": [
    "x = [1, 2, 3]\n",
    "y = x\n",
    "z = len(x)\n",
    "x.pop(1)\n",
    "\n",
    "print(x)\n",
    "print(y)\n",
    "print(z)"
   ],
   "metadata": {
    "collapsed": false
   }
  },
  {
   "cell_type": "code",
   "execution_count": 2,
   "outputs": [
    {
     "name": "stdout",
     "output_type": "stream",
     "text": [
      "A\n",
      "B\n",
      "C\n",
      "test\n"
     ]
    }
   ],
   "source": [
    "def r(**kwargs):\n",
    "    for key in kwargs:\n",
    "        print(key)\n",
    "\n",
    "d = {val: idx for idx, val in enumerate(\"ABC\")}\n",
    "\n",
    "r(**d, test=5)\n",
    "\n"
   ],
   "metadata": {
    "collapsed": false
   }
  },
  {
   "cell_type": "code",
   "execution_count": 1,
   "outputs": [
    {
     "name": "stdout",
     "output_type": "stream",
     "text": [
      "item1\n",
      "item2\n"
     ]
    }
   ],
   "source": [
    "dictionary = {\"item1\": 1, \"item2\": 2}\n",
    "for item in dictionary:\n",
    "    print(item)"
   ],
   "metadata": {
    "collapsed": false
   }
  },
  {
   "cell_type": "code",
   "execution_count": 3,
   "outputs": [
    {
     "name": "stdout",
     "output_type": "stream",
     "text": [
      "<class 'generator'>\n",
      "<class 'int'>\n",
      "3\n",
      "5\n",
      "7\n",
      "9\n"
     ]
    }
   ],
   "source": [
    "def g():\n",
    "    yield 1\n",
    "    yield 3\n",
    "    yield 5\n",
    "    yield 7\n",
    "    yield 9\n",
    "\n",
    "r = g()\n",
    "print(type(r))\n",
    "print(type(next(r)))\n",
    "\n",
    "for x in r:\n",
    "    print(x)\n",
    "\n"
   ],
   "metadata": {
    "collapsed": false
   }
  },
  {
   "cell_type": "code",
   "execution_count": 4,
   "outputs": [
    {
     "name": "stdout",
     "output_type": "stream",
     "text": [
      "[1, 2, 3, True, 'abc']\n"
     ]
    }
   ],
   "source": [
    "x = [0, 1, 2, 3, True, False, \"abc\", \"\"]\n",
    "y = filter(lambda y: y, x)\n",
    "\n",
    "print(list(y))\n"
   ],
   "metadata": {
    "collapsed": false
   }
  },
  {
   "cell_type": "code",
   "execution_count": 11,
   "outputs": [
    {
     "name": "stdout",
     "output_type": "stream",
     "text": [
      "[1, 1, 1, 1, 1]\n"
     ]
    }
   ],
   "source": [
    "\n",
    "def loop(input_val, n):\n",
    "    length = len(input_val)\n",
    "    for i in range(n):\n",
    "        yield input_val[i % length]\n",
    "\n",
    "print(list(loop([1], 5)))"
   ],
   "metadata": {
    "collapsed": false
   }
  },
  {
   "cell_type": "code",
   "execution_count": 22,
   "outputs": [
    {
     "name": "stdout",
     "output_type": "stream",
     "text": [
      "1 1\n",
      "2 2\n",
      "3 3\n",
      "1 1\n",
      "2 2\n",
      "3 3\n"
     ]
    }
   ],
   "source": [
    "class A:\n",
    "    def __init__(self, *args):\n",
    "        self.arguments = args\n",
    "\n",
    "    def f(self):\n",
    "        for arg in self.arguments:\n",
    "            self.g(arg)\n",
    "\n",
    "    def g(self, n):\n",
    "        print(n)\n",
    "\n",
    "class B(A):\n",
    "\n",
    "    def g(self, n):\n",
    "        # Override the g method to print each argument twice on the same line\n",
    "        print(f\"{n} {n}\")\n",
    "\n",
    "    def f(self): # while function f of A is called, it code runs with all relevant functions in g if overridden!\n",
    "        super().f()\n",
    "        super().f()\n",
    "\n",
    "temp = B(1, 2, 3)\n",
    "temp.f()"
   ],
   "metadata": {
    "collapsed": false
   }
  },
  {
   "cell_type": "code",
   "execution_count": 23,
   "outputs": [
    {
     "data": {
      "text/plain": "False"
     },
     "execution_count": 23,
     "metadata": {},
     "output_type": "execute_result"
    }
   ],
   "source": [
    "class Vector2:\n",
    "    def __init__(self, x, y):\n",
    "        self.x = x\n",
    "        self.y = y\n",
    "\n",
    "a = Vector2(0, 0)\n",
    "b = Vector2(0, 0)\n",
    "\n",
    "a == b"
   ],
   "metadata": {
    "collapsed": false
   }
  },
  {
   "cell_type": "markdown",
   "source": [
    "False because Python is comparing their memory addresses. Could be true if __eq__ is defined in the class. In which case, the output of __eq__ is used for comparison."
   ],
   "metadata": {
    "collapsed": false
   }
  },
  {
   "cell_type": "code",
   "execution_count": 24,
   "outputs": [
    {
     "name": "stdout",
     "output_type": "stream",
     "text": [
      "1\n",
      "2\n",
      "3\n",
      "4\n",
      "5\n",
      "HORSE\n",
      "COW\n"
     ]
    }
   ],
   "source": [
    "x = [1, 2, 3, 4, 5]\n",
    "\n",
    "try:\n",
    "    for i in range(10):\n",
    "        print(x[i])\n",
    "    print(\"PIG\")\n",
    "except IndexError:\n",
    "    print(\"HORSE\")\n",
    "else:\n",
    "    print(\"FISH\")\n",
    "finally:\n",
    "    print(\"COW\")\n",
    "\n"
   ],
   "metadata": {
    "collapsed": false
   }
  },
  {
   "cell_type": "code",
   "execution_count": 25,
   "outputs": [
    {
     "name": "stdout",
     "output_type": "stream",
     "text": [
      "6.0\n"
     ]
    }
   ],
   "source": [
    "def f(x):\n",
    "    return 12 / x\n",
    "\n",
    "def g():\n",
    "    try:\n",
    "        print(f(2))\n",
    "        print(f(0))\n",
    "        print(f(6))\n",
    "    except Exception:\n",
    "        pass\n",
    "\n",
    "g()"
   ],
   "metadata": {
    "collapsed": false
   }
  },
  {
   "cell_type": "code",
   "execution_count": 13,
   "outputs": [],
   "source": [
    "class InventoryError(Exception):\n",
    "    def __init__(self, message = \"Insufficient Inventory!\"):\n",
    "        super().__init__(message)\n",
    "\n",
    "class ecommerce:\n",
    "\n",
    "    for_sale = dict()\n",
    "\n",
    "    @staticmethod\n",
    "    def reduce_inventory(name, quantity):\n",
    "        if quantity <= ecommerce.for_sale[name][1]:\n",
    "            ecommerce.for_sale[name][1] -= quantity\n",
    "        else:\n",
    "            raise InventoryError\n",
    "\n",
    "\n",
    "class merchants(ecommerce):\n",
    "\n",
    "    def __enter__(self, username, password):\n",
    "        return\n",
    "\n",
    "    def __exit__(self):\n",
    "        print(\"logged out\")\n",
    "        return\n",
    "\n",
    "    def create_item(self, name, price, inventory = 0, revenues = 0):\n",
    "        ecommerce.for_sale[name] = [price, inventory, revenues]\n",
    "\n",
    "    def del_item(self, name):\n",
    "        try:\n",
    "            ecommerce.for_sale.pop(name)\n",
    "        except:\n",
    "            raise Exception(\"Item not found!\")\n",
    "\n",
    "\n",
    "class customers(ecommerce):\n",
    "\n",
    "    def __init__(self):\n",
    "\n",
    "        self.shopping_cart = dict()\n",
    "\n",
    "    def __enter__(self, username, password):\n",
    "        return\n",
    "\n",
    "    def __exit__(self):\n",
    "        print(\"logged out\")\n",
    "        return\n",
    "\n",
    "    def add_item(self, name, quantity):\n",
    "        if name not in self.shopping_cart:\n",
    "            self.shopping_cart[name] = 0\n",
    "        if quantity <= ecommerce.for_sale[name][1]:\n",
    "            self.shopping_cart[name] += quantity\n",
    "        else:\n",
    "            raise InventoryError\n",
    "\n",
    "    def checkout(self):\n",
    "        cart_cost = 0\n",
    "        for name, qty in self.shopping_cart.items():\n",
    "            ecommerce.reduce_inventory(name, qty)\n",
    "            cart_cost += (ecommerce.for_sale[name][0] * qty)\n",
    "\n",
    "            print(f\"The total cost of your purchase is {cart_cost}\")\n",
    "\n",
    "\n"
   ],
   "metadata": {
    "collapsed": false
   }
  },
  {
   "cell_type": "code",
   "execution_count": 14,
   "outputs": [
    {
     "name": "stdout",
     "output_type": "stream",
     "text": [
      "The total cost of your purchase is 500\n"
     ]
    }
   ],
   "source": [
    "new_ecommerce_site = ecommerce()\n",
    "merchant1 = merchants()\n",
    "merchant1.create_item(\"new item\", 100, 10)\n",
    "customer1 = customers()\n",
    "customer1.add_item(\"new item\", 5)\n",
    "customer1.checkout()"
   ],
   "metadata": {
    "collapsed": false
   }
  },
  {
   "cell_type": "code",
   "execution_count": 15,
   "outputs": [
    {
     "data": {
      "text/plain": "{'new item': [100, 5, 0]}"
     },
     "execution_count": 15,
     "metadata": {},
     "output_type": "execute_result"
    }
   ],
   "source": [
    "new_ecommerce_site.for_sale"
   ],
   "metadata": {
    "collapsed": false
   }
  },
  {
   "cell_type": "code",
   "execution_count": 16,
   "outputs": [
    {
     "name": "stdout",
     "output_type": "stream",
     "text": [
      "other_func(){x = 3,y = 2}\n",
      "6\n"
     ]
    }
   ],
   "source": [
    "def trace(func):\n",
    "    def newfunc(*args, **kwargs):\n",
    "        output = func(*args, **kwargs)\n",
    "        args_str = ','.join(repr(val) for val in args)\n",
    "        kwargs_str = ','.join(str(str(key) + \" = \" + str(val)) for key, val in kwargs.items())\n",
    "        print(f\"{func.__name__}({args_str})\" + \"{\" + kwargs_str + \"}\")\n",
    "        return output\n",
    "    return newfunc\n",
    "\n",
    "@trace\n",
    "def other_func(x, y):\n",
    "    return x*y\n",
    "\n",
    "g = other_func(x=3, y=2)\n",
    "\n",
    "print(g)"
   ],
   "metadata": {
    "collapsed": false
   }
  },
  {
   "cell_type": "code",
   "execution_count": 22,
   "outputs": [
    {
     "name": "stdout",
     "output_type": "stream",
     "text": [
      "outer {'a': 3, 'b': 4, 'args': (5, 6, 7), 'inner': <function outer.<locals>.inner at 0x158eeec00>}\n"
     ]
    },
    {
     "ename": "ValueError",
     "evalue": "min() arg is an empty sequence",
     "output_type": "error",
     "traceback": [
      "\u001B[0;31m---------------------------------------------------------------------------\u001B[0m",
      "\u001B[0;31mValueError\u001B[0m                                Traceback (most recent call last)",
      "Cell \u001B[0;32mIn[22], line 9\u001B[0m\n\u001B[1;32m      6\u001B[0m     \u001B[38;5;28mprint\u001B[39m(\u001B[38;5;124m\"\u001B[39m\u001B[38;5;124mouter\u001B[39m\u001B[38;5;124m\"\u001B[39m, \u001B[38;5;28mlocals\u001B[39m())\n\u001B[1;32m      7\u001B[0m     \u001B[38;5;28;01mreturn\u001B[39;00m inner()\n\u001B[0;32m----> 9\u001B[0m outer(\u001B[38;5;241m3\u001B[39m, \u001B[38;5;241m4\u001B[39m, \u001B[38;5;241m5\u001B[39m, \u001B[38;5;241m6\u001B[39m, \u001B[38;5;241m7\u001B[39m)\n",
      "Cell \u001B[0;32mIn[22], line 7\u001B[0m, in \u001B[0;36mouter\u001B[0;34m(a, b, *args)\u001B[0m\n\u001B[1;32m      5\u001B[0m     \u001B[38;5;28mprint\u001B[39m(\u001B[38;5;124m\"\u001B[39m\u001B[38;5;124minner\u001B[39m\u001B[38;5;124m\"\u001B[39m, \u001B[38;5;28mlocals\u001B[39m())\n\u001B[1;32m      6\u001B[0m \u001B[38;5;28mprint\u001B[39m(\u001B[38;5;124m\"\u001B[39m\u001B[38;5;124mouter\u001B[39m\u001B[38;5;124m\"\u001B[39m, \u001B[38;5;28mlocals\u001B[39m())\n\u001B[0;32m----> 7\u001B[0m \u001B[38;5;28;01mreturn\u001B[39;00m inner()\n",
      "Cell \u001B[0;32mIn[22], line 3\u001B[0m, in \u001B[0;36mouter.<locals>.inner\u001B[0;34m(*args)\u001B[0m\n\u001B[1;32m      2\u001B[0m \u001B[38;5;28;01mdef\u001B[39;00m \u001B[38;5;21minner\u001B[39m(\u001B[38;5;241m*\u001B[39margs):\n\u001B[0;32m----> 3\u001B[0m     s \u001B[38;5;241m=\u001B[39m \u001B[38;5;28mmin\u001B[39m(args)\n\u001B[1;32m      4\u001B[0m     c \u001B[38;5;241m=\u001B[39m a \u001B[38;5;241m+\u001B[39m b\n\u001B[1;32m      5\u001B[0m     \u001B[38;5;28mprint\u001B[39m(\u001B[38;5;124m\"\u001B[39m\u001B[38;5;124minner\u001B[39m\u001B[38;5;124m\"\u001B[39m, \u001B[38;5;28mlocals\u001B[39m())\n",
      "\u001B[0;31mValueError\u001B[0m: min() arg is an empty sequence"
     ]
    }
   ],
   "source": [
    "def outer(a, b, *args):\n",
    "    def inner(*args):\n",
    "        s = min(args)\n",
    "        c = a + b\n",
    "        print(\"inner\", locals())\n",
    "    print(\"outer\", locals())\n",
    "    return inner()\n",
    "\n",
    "outer(3, 4, 5, 6, 7)"
   ],
   "metadata": {
    "collapsed": false
   }
  },
  {
   "cell_type": "code",
   "execution_count": 23,
   "outputs": [
    {
     "name": "stdout",
     "output_type": "stream",
     "text": [
      "3\n",
      "6\n",
      "12\n",
      "3\n"
     ]
    }
   ],
   "source": [
    "def mystery():\n",
    "    n = 1\n",
    "    m = 2\n",
    "    while True:\n",
    "        yield n + m\n",
    "        m = n + m\n",
    "        n = m\n",
    "\n",
    "g = mystery()\n",
    "g2 = mystery()\n",
    "print(next(g))\n",
    "print(next(g))\n",
    "print(next(g))\n",
    "print(next(g2))\n",
    "\n"
   ],
   "metadata": {
    "collapsed": false
   }
  },
  {
   "cell_type": "code",
   "execution_count": 14,
   "outputs": [],
   "source": [
    "from abc import ABC, abstractmethod\n",
    "\n",
    "class Vector(ABC):\n",
    "\n",
    "    @abstractmethod\n",
    "    def __add__(self, other):\n",
    "        pass\n",
    "\n",
    "    @abstractmethod\n",
    "    def __eq__(self, other):\n",
    "        pass\n",
    "\n",
    "    @abstractmethod\n",
    "    def __mul__(self, other):\n",
    "        pass\n",
    "\n",
    "class Vector2(Vector):\n",
    "\n",
    "    def __init__(self, x, y):\n",
    "        self.__x = x\n",
    "        self.__y = y\n",
    "\n",
    "    @property\n",
    "    def x(self):\n",
    "        return self.__x\n",
    "\n",
    "    @property\n",
    "    def y(self):\n",
    "        return self.__y\n",
    "\n",
    "    def __eq__(self, other):\n",
    "        if isinstance(other, Vector2):\n",
    "            return self.x == other.x and self.y == other.y\n",
    "        return False\n",
    "\n",
    "    def __mul__(self, other):\n",
    "        return Vector2(self.x * other, self.y * other)\n",
    "\n",
    "    def __add__(self, other):\n",
    "        if type(self) == type(other):\n",
    "            return Vector2(self.x + other.x, self.y + other.y)\n",
    "        else:\n",
    "            return TypeError\n",
    "\n",
    "class Vector3(Vector2):\n",
    "\n",
    "    def __init__(self, x, y, z):\n",
    "        super().__init__(x, y)\n",
    "        self.__z = z\n",
    "\n",
    "    @property\n",
    "    def z(self):\n",
    "        return self.__z\n",
    "\n",
    "    def __eq__(self, other):\n",
    "        if isinstance(other, Vector2):\n",
    "            return super().__eq__(other) and self.z == 0\n",
    "        elif isinstance(other, Vector3):\n",
    "            return super().__eq__(other) and self.z == other.z\n",
    "        return False\n",
    "\n",
    "    def __mul__(self, other):\n",
    "        return Vector3(self.x * other, self.y * other, self.z * other)\n",
    "\n",
    "    def __add__(self, other):\n",
    "        if isinstance(other, Vector3):\n",
    "            return Vector3(self.x + other.x, self.y + other.y, self.z + other.z)\n",
    "        else:\n",
    "            raise TypeError\n",
    "\n"
   ],
   "metadata": {
    "collapsed": false
   }
  },
  {
   "cell_type": "code",
   "execution_count": 15,
   "outputs": [],
   "source": [
    "test_vector2 = Vector2(1, 2)\n",
    "test_vector3 = Vector3(1, 2, 0)"
   ],
   "metadata": {
    "collapsed": false
   }
  },
  {
   "cell_type": "code",
   "execution_count": 16,
   "outputs": [
    {
     "data": {
      "text/plain": "True"
     },
     "execution_count": 16,
     "metadata": {},
     "output_type": "execute_result"
    }
   ],
   "source": [
    "test_vector3 == test_vector2"
   ],
   "metadata": {
    "collapsed": false
   }
  },
  {
   "cell_type": "code",
   "execution_count": 19,
   "outputs": [],
   "source": [
    "class FarmAnimal:\n",
    "\n",
    "    def __init__(self, name, feet):\n",
    "        self.name = name\n",
    "        self.__feet = feet\n",
    "\n",
    "    @property\n",
    "    def num_feet(self):\n",
    "        return self.__feet\n",
    "\n",
    "class Pig(FarmAnimal):\n",
    "\n",
    "    def __init__(self, name):\n",
    "        super().__init__(name, 4)\n",
    "\n",
    "class Cow(FarmAnimal):\n",
    "\n",
    "    def __init__(self, name):\n",
    "        super().__init__(name, 4)\n",
    "\n",
    "class Chicken(FarmAnimal):\n",
    "\n",
    "    def __init__(self, name):\n",
    "        super().__init__(name, 2)\n",
    "\n",
    "    def get_egg(self):\n",
    "        return \"egg\"\n",
    "\n"
   ],
   "metadata": {
    "collapsed": false
   }
  },
  {
   "cell_type": "code",
   "execution_count": 20,
   "outputs": [
    {
     "data": {
      "text/plain": "2"
     },
     "execution_count": 20,
     "metadata": {},
     "output_type": "execute_result"
    }
   ],
   "source": [
    "new_chicken = Chicken(\"perry\")\n",
    "new_chicken.num_feet"
   ],
   "metadata": {
    "collapsed": false
   }
  },
  {
   "cell_type": "code",
   "execution_count": 54,
   "outputs": [],
   "source": [
    "def f(*args):\n",
    "    return list(map(lambda x: x**2, filter(lambda x: max(x, 0), args)))\n"
   ],
   "metadata": {
    "collapsed": false
   }
  },
  {
   "cell_type": "code",
   "execution_count": 55,
   "outputs": [
    {
     "data": {
      "text/plain": "[1, 9, 4]"
     },
     "execution_count": 55,
     "metadata": {},
     "output_type": "execute_result"
    }
   ],
   "source": [
    "f(1, 3, -4, 2)"
   ],
   "metadata": {
    "collapsed": false
   }
  },
  {
   "cell_type": "code",
   "execution_count": 52,
   "outputs": [],
   "source": [
    "def f(*args):\n",
    "    return [x ** 2 for x in args if x > 0]"
   ],
   "metadata": {
    "collapsed": false
   }
  },
  {
   "cell_type": "code",
   "execution_count": 53,
   "outputs": [
    {
     "data": {
      "text/plain": "[1, 9, 4]"
     },
     "execution_count": 53,
     "metadata": {},
     "output_type": "execute_result"
    }
   ],
   "source": [
    "f(1, 3, -4, 2)"
   ],
   "metadata": {
    "collapsed": false
   }
  },
  {
   "cell_type": "code",
   "execution_count": 64,
   "outputs": [],
   "source": [
    "def extract_ints(*args):\n",
    "    return [arg for arg in args if arg.lstrip('-').isnumeric()]"
   ],
   "metadata": {
    "collapsed": false
   }
  },
  {
   "cell_type": "code",
   "execution_count": 65,
   "outputs": [
    {
     "data": {
      "text/plain": "['1', '4', '-1230']"
     },
     "execution_count": 65,
     "metadata": {},
     "output_type": "execute_result"
    }
   ],
   "source": [
    "extract_ints(\"1\", \"4\", \"-1230\", \"20.10\", \"HJel\")"
   ],
   "metadata": {
    "collapsed": false
   }
  },
  {
   "cell_type": "code",
   "execution_count": 77,
   "outputs": [],
   "source": [
    "def word_count(input_string):\n",
    "    return {val: input_string.lower().count(val) for val in input_string.lower().split(\" \")}"
   ],
   "metadata": {
    "collapsed": false
   }
  },
  {
   "cell_type": "code",
   "execution_count": 79,
   "outputs": [
    {
     "data": {
      "text/plain": "{'hello': 2, 'there': 1}"
     },
     "execution_count": 79,
     "metadata": {},
     "output_type": "execute_result"
    }
   ],
   "source": [
    "word_count(\"hello there hello\")"
   ],
   "metadata": {
    "collapsed": false
   }
  },
  {
   "cell_type": "code",
   "execution_count": 1,
   "outputs": [
    {
     "name": "stdout",
     "output_type": "stream",
     "text": [
      "None\n",
      "None\n",
      "7\n",
      "None\n",
      "None\n",
      "None\n"
     ]
    }
   ],
   "source": [
    "text = \"The cat and dog ran and hid\"\n",
    "d = {}\n",
    "for x in text.split():\n",
    "    v = len(x)\n",
    "    if v in d:\n",
    "        d[v] += 1\n",
    "    else:\n",
    "        d[v] = 1\n",
    "\n",
    "for y in range(1, 7):\n",
    "    print(d.get(y))"
   ],
   "metadata": {
    "collapsed": false
   }
  },
  {
   "cell_type": "code",
   "execution_count": 7,
   "outputs": [
    {
     "data": {
      "text/plain": "{'A', 'D'}"
     },
     "execution_count": 7,
     "metadata": {},
     "output_type": "execute_result"
    }
   ],
   "source": [
    "def filter_list(main, exclude1, exclude2):\n",
    "    main = set(main)\n",
    "    exclude1 = set(exclude1)\n",
    "    exclude2 = set(exclude2)\n",
    "\n",
    "    main -= exclude1\n",
    "    main -= exclude2\n",
    "\n",
    "    return main\n",
    "\n",
    "filter_list([\"A\", \"B\", \"C\", \"D\"], [\"B\"], [\"C\"])\n"
   ],
   "metadata": {
    "collapsed": false
   }
  },
  {
   "cell_type": "code",
   "execution_count": 10,
   "outputs": [
    {
     "data": {
      "text/plain": "{'a': 2, 'b': 3}"
     },
     "execution_count": 10,
     "metadata": {},
     "output_type": "execute_result"
    }
   ],
   "source": [
    "def occurrences(input_string, list_string):\n",
    "\n",
    "    dictionary = dict()\n",
    "\n",
    "    for char in input_string:\n",
    "        if char not in dictionary:\n",
    "            dictionary[char] = 0\n",
    "\n",
    "    for word in list_string:\n",
    "        for char in word:\n",
    "            if char in dictionary:\n",
    "                dictionary[char] += 1\n",
    "\n",
    "    return dictionary\n",
    "\n",
    "occurrences(\"ab\", [\"taken\", \"blake\", \"blob\"])"
   ],
   "metadata": {
    "collapsed": false
   }
  },
  {
   "cell_type": "code",
   "execution_count": 11,
   "outputs": [
    {
     "name": "stdout",
     "output_type": "stream",
     "text": [
      "[1]\n"
     ]
    }
   ],
   "source": [
    "print([1])"
   ],
   "metadata": {
    "collapsed": false
   }
  },
  {
   "cell_type": "code",
   "execution_count": 13,
   "outputs": [
    {
     "name": "stdout",
     "output_type": "stream",
     "text": [
      "5 0 {'z': 5}\n"
     ]
    }
   ],
   "source": [
    "def h(*, x = 0, y = 0, **kwargs):\n",
    "    print(x, y, kwargs)\n",
    "\n",
    "h(x = 5, z = 5)"
   ],
   "metadata": {
    "collapsed": false
   }
  },
  {
   "cell_type": "code",
   "execution_count": 14,
   "outputs": [
    {
     "name": "stdout",
     "output_type": "stream",
     "text": [
      "{'x': 5, 'y': 2}\n"
     ]
    }
   ],
   "source": [
    "def test(**kwargs):\n",
    "    print(kwargs)\n",
    "\n",
    "test(x = 5, y = 2)"
   ],
   "metadata": {
    "collapsed": false
   }
  },
  {
   "cell_type": "code",
   "execution_count": 15,
   "outputs": [
    {
     "name": "stdout",
     "output_type": "stream",
     "text": [
      "2\n"
     ]
    }
   ],
   "source": [
    "def j(x, **kwargs):\n",
    "    print(len(kwargs))\n",
    "\n",
    "r = {\"e\": 4}\n",
    "j(x = 1, y = [1, 2, 3], **r)"
   ],
   "metadata": {
    "collapsed": false
   }
  },
  {
   "cell_type": "code",
   "execution_count": 16,
   "outputs": [
    {
     "name": "stdout",
     "output_type": "stream",
     "text": [
      "outer {'args': (), 'kwargs': {}, 'inner': <function outer.<locals>.inner at 0x11fc3c5e0>}\n",
      "inner {'p': 1, 'val': -4.102068570306623e-10}\n"
     ]
    }
   ],
   "source": [
    "import math\n",
    "\n",
    "pi = 3.141592654\n",
    "\n",
    "def outer(*args, **kwargs):\n",
    "    def inner(p):\n",
    "        val = math.sin(p * pi)\n",
    "        print(\"inner\", locals())\n",
    "    print(\"outer\", locals())\n",
    "    return inner(p = 1)\n",
    "\n",
    "outer()"
   ],
   "metadata": {
    "collapsed": false
   }
  },
  {
   "cell_type": "code",
   "execution_count": 29,
   "outputs": [
    {
     "name": "stdout",
     "output_type": "stream",
     "text": [
      "['one', 'two', 'three', 'four', 'five']\n"
     ]
    }
   ],
   "source": [
    "def find_preceding(search, words):\n",
    "    words = words.split()\n",
    "    for ind, word in enumerate(words):\n",
    "        if word == search and ind >= 1:\n",
    "            yield words[ind - 1]\n",
    "\n",
    "result = find_preceding(\"fish\", \"one fish two fish three fish four fish five fish\")\n",
    "print(list(result))"
   ],
   "metadata": {
    "collapsed": false
   }
  },
  {
   "cell_type": "code",
   "execution_count": null,
   "outputs": [],
   "source": [
    "def misspelled(text, spellcheck):\n"
   ],
   "metadata": {
    "collapsed": false
   }
  }
 ],
 "metadata": {
  "kernelspec": {
   "display_name": "Python 3",
   "language": "python",
   "name": "python3"
  },
  "language_info": {
   "codemirror_mode": {
    "name": "ipython",
    "version": 2
   },
   "file_extension": ".py",
   "mimetype": "text/x-python",
   "name": "python",
   "nbconvert_exporter": "python",
   "pygments_lexer": "ipython2",
   "version": "2.7.6"
  }
 },
 "nbformat": 4,
 "nbformat_minor": 0
}
